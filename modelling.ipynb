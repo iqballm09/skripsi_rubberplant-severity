{
 "cells": [
  {
   "cell_type": "markdown",
   "id": "bd86dce3-77ae-460b-8104-f3e1e3d32edb",
   "metadata": {},
   "source": [
    "# Modelling\n",
    "\n",
    "Menggunakan algoritma Random Forest Classifier"
   ]
  },
  {
   "cell_type": "code",
   "execution_count": 1,
   "id": "ee5d9e8b-13ee-4f33-abad-ded12505b7d5",
   "metadata": {},
   "outputs": [],
   "source": [
    "# Import libraries\n",
    "import pandas as pd\n",
    "import numpy as np\n",
    "from sklearn.ensemble import RandomForestClassifier\n",
    "from sklearn.model_selection import train_test_split\n",
    "from sklearn.model_selection import cross_val_score\n",
    "from sklearn.linear_model import LogisticRegression"
   ]
  },
  {
   "cell_type": "code",
   "execution_count": 2,
   "id": "2170e201-036c-4dfe-89bc-2add77cfc709",
   "metadata": {},
   "outputs": [
    {
     "data": {
      "text/html": [
       "<div>\n",
       "<style scoped>\n",
       "    .dataframe tbody tr th:only-of-type {\n",
       "        vertical-align: middle;\n",
       "    }\n",
       "\n",
       "    .dataframe tbody tr th {\n",
       "        vertical-align: top;\n",
       "    }\n",
       "\n",
       "    .dataframe thead th {\n",
       "        text-align: right;\n",
       "    }\n",
       "</style>\n",
       "<table border=\"1\" class=\"dataframe\">\n",
       "  <thead>\n",
       "    <tr style=\"text-align: right;\">\n",
       "      <th></th>\n",
       "      <th>date</th>\n",
       "      <th>hemispherical</th>\n",
       "      <th>longitude</th>\n",
       "      <th>latitude</th>\n",
       "      <th>region</th>\n",
       "      <th>ndre_karet</th>\n",
       "      <th>lci_karet</th>\n",
       "      <th>ndre_gulma</th>\n",
       "      <th>lci_gulma</th>\n",
       "      <th>severity_level</th>\n",
       "    </tr>\n",
       "  </thead>\n",
       "  <tbody>\n",
       "    <tr>\n",
       "      <th>0</th>\n",
       "      <td>19/01/22</td>\n",
       "      <td>IMG_3761_2</td>\n",
       "      <td>104.541217</td>\n",
       "      <td>-2.925328</td>\n",
       "      <td>1-bpm24</td>\n",
       "      <td>0.179929</td>\n",
       "      <td>0.263949</td>\n",
       "      <td>0.230401</td>\n",
       "      <td>0.332627</td>\n",
       "      <td>2</td>\n",
       "    </tr>\n",
       "    <tr>\n",
       "      <th>1</th>\n",
       "      <td>19/01/22</td>\n",
       "      <td>IMG_3754_2</td>\n",
       "      <td>104.541035</td>\n",
       "      <td>-2.925307</td>\n",
       "      <td>1-bpm24</td>\n",
       "      <td>0.186941</td>\n",
       "      <td>0.282940</td>\n",
       "      <td>0.241650</td>\n",
       "      <td>0.353368</td>\n",
       "      <td>3</td>\n",
       "    </tr>\n",
       "    <tr>\n",
       "      <th>2</th>\n",
       "      <td>19/01/22</td>\n",
       "      <td>IMG_3746_2</td>\n",
       "      <td>104.541010</td>\n",
       "      <td>-2.925442</td>\n",
       "      <td>1-bpm24</td>\n",
       "      <td>0.182272</td>\n",
       "      <td>0.266318</td>\n",
       "      <td>0.227874</td>\n",
       "      <td>0.333177</td>\n",
       "      <td>3</td>\n",
       "    </tr>\n",
       "    <tr>\n",
       "      <th>3</th>\n",
       "      <td>19/01/22</td>\n",
       "      <td>IMG_3737_2</td>\n",
       "      <td>104.541267</td>\n",
       "      <td>-2.925553</td>\n",
       "      <td>1-bpm24</td>\n",
       "      <td>0.188025</td>\n",
       "      <td>0.278577</td>\n",
       "      <td>0.238956</td>\n",
       "      <td>0.347100</td>\n",
       "      <td>2</td>\n",
       "    </tr>\n",
       "    <tr>\n",
       "      <th>4</th>\n",
       "      <td>19/01/22</td>\n",
       "      <td>IMG_3731_2</td>\n",
       "      <td>104.541405</td>\n",
       "      <td>-2.925567</td>\n",
       "      <td>1-bpm24</td>\n",
       "      <td>0.178248</td>\n",
       "      <td>0.266711</td>\n",
       "      <td>0.232217</td>\n",
       "      <td>0.337075</td>\n",
       "      <td>2</td>\n",
       "    </tr>\n",
       "  </tbody>\n",
       "</table>\n",
       "</div>"
      ],
      "text/plain": [
       "       date hemispherical   longitude  latitude   region  ndre_karet   \n",
       "0  19/01/22    IMG_3761_2  104.541217 -2.925328  1-bpm24    0.179929  \\\n",
       "1  19/01/22    IMG_3754_2  104.541035 -2.925307  1-bpm24    0.186941   \n",
       "2  19/01/22    IMG_3746_2  104.541010 -2.925442  1-bpm24    0.182272   \n",
       "3  19/01/22    IMG_3737_2  104.541267 -2.925553  1-bpm24    0.188025   \n",
       "4  19/01/22    IMG_3731_2  104.541405 -2.925567  1-bpm24    0.178248   \n",
       "\n",
       "   lci_karet  ndre_gulma  lci_gulma  severity_level  \n",
       "0   0.263949    0.230401   0.332627               2  \n",
       "1   0.282940    0.241650   0.353368               3  \n",
       "2   0.266318    0.227874   0.333177               3  \n",
       "3   0.278577    0.238956   0.347100               2  \n",
       "4   0.266711    0.232217   0.337075               2  "
      ]
     },
     "execution_count": 2,
     "metadata": {},
     "output_type": "execute_result"
    }
   ],
   "source": [
    "# Read data\n",
    "df = pd.read_csv(\"ground_vi_data.csv\")\n",
    "df.head()"
   ]
  },
  {
   "cell_type": "code",
   "execution_count": null,
   "id": "d10b86e7-a6c3-4903-a69e-227dbe07dcc3",
   "metadata": {},
   "outputs": [],
   "source": [
    "# # Function for ML Report Classification\n",
    "# def ml_report_classification(model, X_train, y_train, X_test, name):\n",
    "#     print(\"====================\\n\" + name + \"\\n====================\\n\")\n",
    "#     scores = cross_val_score(model, X_train, y_train, cv=5)\n",
    "#     print(\"List Traning Scores :\", scores)\n",
    "#     print(\"Training Average : {} +- {}\".format(scores.mean(), scores.std()))\n",
    "#     print(\"Validation Score\\n----------------------\\n\")\n",
    "#     y_pred = model.predict(X_test)\n",
    "#     print(\"Accuracy Score :\", accuracy_score(y_pred, y_test))\n",
    "#     print(\"F1-Score       :\", f1_score(y_pred, y_test, average='macro'))\n",
    "#     print(classification_report(y_pred, y_test))\n",
    "#     print(confusion_matrix(y_pred, y_test))"
   ]
  },
  {
   "cell_type": "code",
   "execution_count": null,
   "id": "5ba0c782-4dce-4679-9ba9-1e8248fb8ded",
   "metadata": {},
   "outputs": [],
   "source": []
  },
  {
   "cell_type": "code",
   "execution_count": null,
   "id": "3707e4f5-36b9-487e-abcd-b5a63c52bc5e",
   "metadata": {},
   "outputs": [],
   "source": []
  },
  {
   "cell_type": "code",
   "execution_count": null,
   "id": "51db1e92-a944-48ca-97d2-e91474446626",
   "metadata": {},
   "outputs": [],
   "source": []
  },
  {
   "cell_type": "code",
   "execution_count": 3,
   "id": "e66e879a-e170-4d8e-8a46-e78110b3b99f",
   "metadata": {},
   "outputs": [
    {
     "data": {
      "text/plain": [
       "(144, 10)"
      ]
     },
     "execution_count": 3,
     "metadata": {},
     "output_type": "execute_result"
    }
   ],
   "source": [
    "df.shape"
   ]
  },
  {
   "cell_type": "code",
   "execution_count": 4,
   "id": "d37598d0-635e-4e0a-93be-adff5182a075",
   "metadata": {},
   "outputs": [
    {
     "data": {
      "text/plain": [
       "date              0\n",
       "hemispherical     0\n",
       "longitude         0\n",
       "latitude          0\n",
       "region            0\n",
       "ndre_karet        0\n",
       "lci_karet         0\n",
       "ndre_gulma        0\n",
       "lci_gulma         0\n",
       "severity_level    0\n",
       "dtype: int64"
      ]
     },
     "execution_count": 4,
     "metadata": {},
     "output_type": "execute_result"
    }
   ],
   "source": [
    "# Check missing values\n",
    "df.isnull().sum()"
   ]
  },
  {
   "cell_type": "code",
   "execution_count": 5,
   "id": "be3730f8-b0a1-4e62-9c6e-37f1002d2516",
   "metadata": {},
   "outputs": [
    {
     "data": {
      "text/plain": [
       "(132, 10)"
      ]
     },
     "execution_count": 5,
     "metadata": {},
     "output_type": "execute_result"
    }
   ],
   "source": [
    "# Extract data for 1-3 level\n",
    "df123 = df[df.severity_level < 4]\n",
    "df123.shape"
   ]
  },
  {
   "cell_type": "code",
   "execution_count": 6,
   "id": "88bd13f7-fafc-4b4b-a8fa-35694d0868cc",
   "metadata": {},
   "outputs": [],
   "source": [
    "X = np.array(df123[['ndre_karet', 'lci_karet']])\n",
    "y = np.array(df123['severity_level'])"
   ]
  },
  {
   "cell_type": "code",
   "execution_count": 7,
   "id": "e0a659ad-04d7-45f6-b645-3c73ceee5641",
   "metadata": {},
   "outputs": [
    {
     "data": {
      "text/plain": [
       "((105, 2), (27, 2), (105,), (27,))"
      ]
     },
     "execution_count": 7,
     "metadata": {},
     "output_type": "execute_result"
    }
   ],
   "source": [
    "X_train, X_test, y_train, y_test = train_test_split(X, y, test_size=0.2, stratify=y, random_state=123)\n",
    "X_train.shape, X_test.shape, y_train.shape, y_test.shape"
   ]
  },
  {
   "cell_type": "code",
   "execution_count": 38,
   "id": "fadecd60-365d-4a05-8e3c-7a97d1ef0cb3",
   "metadata": {},
   "outputs": [
    {
     "data": {
      "text/plain": [
       "(0.45714285714285713, 0.11895234282663616)"
      ]
     },
     "execution_count": 38,
     "metadata": {},
     "output_type": "execute_result"
    }
   ],
   "source": [
    "lr = LogisticRegression(random_state=0)\n",
    "rf = RandomForestClassifier(random_state=0, n_estimators=200)\n",
    "scores_rf = cross_val_score(rf, X_train, y_train, cv=5, scoring='accuracy')\n",
    "scores_lr = cross_val_score(lr, X_train, y_train, cv=5, scoring='accuracy')\n",
    "scores_rf.mean(), scores_rf.std()"
   ]
  },
  {
   "cell_type": "code",
   "execution_count": 9,
   "id": "f3a73e67-78e0-4e13-8335-350a4314aefb",
   "metadata": {},
   "outputs": [
    {
     "data": {
      "text/plain": [
       "(0.4, 0.15822140691272524)"
      ]
     },
     "execution_count": 9,
     "metadata": {},
     "output_type": "execute_result"
    }
   ],
   "source": [
    "scores_lr.mean(), scores_lr.std()"
   ]
  },
  {
   "cell_type": "code",
   "execution_count": 39,
   "id": "83ba8822-22ea-45fa-91be-763da15c0049",
   "metadata": {},
   "outputs": [
    {
     "name": "stdout",
     "output_type": "stream",
     "text": [
      "              precision    recall  f1-score   support\n",
      "\n",
      "           1       0.80      0.50      0.62         8\n",
      "           2       0.42      0.50      0.45        10\n",
      "           3       0.50      0.56      0.53         9\n",
      "\n",
      "    accuracy                           0.52        27\n",
      "   macro avg       0.57      0.52      0.53        27\n",
      "weighted avg       0.56      0.52      0.53        27\n",
      "\n",
      "[[4 3 1]\n",
      " [1 5 4]\n",
      " [0 4 5]]\n"
     ]
    }
   ],
   "source": [
    "rf.fit(X_train, y_train)\n",
    "ypred = rf.predict(X_test)\n",
    "from sklearn.metrics import confusion_matrix, classification_report\n",
    "print(classification_report(y_test, ypred))\n",
    "print(confusion_matrix(y_test, ypred))"
   ]
  },
  {
   "cell_type": "code",
   "execution_count": 36,
   "id": "6a064cdd-d0a7-4da8-be60-466631df506f",
   "metadata": {},
   "outputs": [
    {
     "data": {
      "text/plain": [
       "(0.47619047619047616, 0.06734350297014738)"
      ]
     },
     "execution_count": 36,
     "metadata": {},
     "output_type": "execute_result"
    }
   ],
   "source": [
    "from sklearn.svm import SVC\n",
    "svm = SVC(kernel='rbf', random_state=0)\n",
    "scores_svm = cross_val_score(svm, X_train, y_train, cv=5, scoring='accuracy')\n",
    "scores_svm.mean(), scores_svm.std()"
   ]
  },
  {
   "cell_type": "code",
   "execution_count": 37,
   "id": "8c41fbc0-8520-4488-8355-62a70670e0bd",
   "metadata": {},
   "outputs": [
    {
     "name": "stdout",
     "output_type": "stream",
     "text": [
      "              precision    recall  f1-score   support\n",
      "\n",
      "           1       0.60      0.75      0.67         8\n",
      "           2       0.00      0.00      0.00        10\n",
      "           3       0.47      0.89      0.62         9\n",
      "\n",
      "    accuracy                           0.52        27\n",
      "   macro avg       0.36      0.55      0.43        27\n",
      "weighted avg       0.33      0.52      0.40        27\n",
      "\n",
      "[[6 0 2]\n",
      " [3 0 7]\n",
      " [1 0 8]]\n"
     ]
    },
    {
     "name": "stderr",
     "output_type": "stream",
     "text": [
      "/home/iqballm09/Documents/skripsi/code/env/lib/python3.10/site-packages/sklearn/metrics/_classification.py:1344: UndefinedMetricWarning: Precision and F-score are ill-defined and being set to 0.0 in labels with no predicted samples. Use `zero_division` parameter to control this behavior.\n",
      "  _warn_prf(average, modifier, msg_start, len(result))\n",
      "/home/iqballm09/Documents/skripsi/code/env/lib/python3.10/site-packages/sklearn/metrics/_classification.py:1344: UndefinedMetricWarning: Precision and F-score are ill-defined and being set to 0.0 in labels with no predicted samples. Use `zero_division` parameter to control this behavior.\n",
      "  _warn_prf(average, modifier, msg_start, len(result))\n",
      "/home/iqballm09/Documents/skripsi/code/env/lib/python3.10/site-packages/sklearn/metrics/_classification.py:1344: UndefinedMetricWarning: Precision and F-score are ill-defined and being set to 0.0 in labels with no predicted samples. Use `zero_division` parameter to control this behavior.\n",
      "  _warn_prf(average, modifier, msg_start, len(result))\n"
     ]
    }
   ],
   "source": [
    "svm.fit(X_train, y_train)\n",
    "ypred = svm.predict(X_test)\n",
    "from sklearn.metrics import confusion_matrix, classification_report\n",
    "print(classification_report(y_test, ypred))\n",
    "print(confusion_matrix(y_test, ypred))"
   ]
  },
  {
   "cell_type": "code",
   "execution_count": null,
   "id": "831a6c2c-a980-4be1-8680-5cde4619eb0d",
   "metadata": {},
   "outputs": [],
   "source": []
  }
 ],
 "metadata": {
  "kernelspec": {
   "display_name": "Python 3 (ipykernel)",
   "language": "python",
   "name": "python3"
  },
  "language_info": {
   "codemirror_mode": {
    "name": "ipython",
    "version": 3
   },
   "file_extension": ".py",
   "mimetype": "text/x-python",
   "name": "python",
   "nbconvert_exporter": "python",
   "pygments_lexer": "ipython3",
   "version": "3.10.6"
  }
 },
 "nbformat": 4,
 "nbformat_minor": 5
}
