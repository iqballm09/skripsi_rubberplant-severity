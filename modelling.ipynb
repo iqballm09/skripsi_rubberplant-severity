{
 "cells": [
  {
   "cell_type": "markdown",
   "id": "bd86dce3-77ae-460b-8104-f3e1e3d32edb",
   "metadata": {},
   "source": [
    "# Modelling\n",
    "\n",
    "- Menggunakan algoritma Random Forest dan Logistic Regression.\n",
    "- Tujuan : Menguji antara data hasil remove overlapping dan replace overlapping yang mana yang dapat menghasilkan akurasi model yang terbaik.\n",
    "- Pada case ini, Severity Level 4 diabaikan karena datanya yang sangat sedikit dibandingkan dengan level lainnya."
   ]
  },
  {
   "cell_type": "code",
   "execution_count": 1,
   "id": "ee5d9e8b-13ee-4f33-abad-ded12505b7d5",
   "metadata": {},
   "outputs": [],
   "source": [
    "# Import libraries\n",
    "import pandas as pd\n",
    "import numpy as np\n",
    "from sklearn.ensemble import RandomForestClassifier\n",
    "from sklearn.model_selection import train_test_split\n",
    "from sklearn.model_selection import cross_val_score\n",
    "from sklearn.metrics import accuracy_score, f1_score\n",
    "from sklearn.metrics import classification_report, confusion_matrix\n",
    "from sklearn.linear_model import LogisticRegression"
   ]
  },
  {
   "cell_type": "code",
   "execution_count": 2,
   "id": "d10b86e7-a6c3-4903-a69e-227dbe07dcc3",
   "metadata": {},
   "outputs": [],
   "source": [
    "# Function for ML Report Classification\n",
    "def ml_report_classification(model, X_train, y_train, X_test, y_test, name):\n",
    "    print(\"====================\\n\" + name + \"\\n====================\\n\")\n",
    "    scores = cross_val_score(model, X_train, y_train, cv=4)\n",
    "    print(\"List Traning Scores :\", scores)\n",
    "    print(\"Training Average : {} +- {}\".format(scores.mean(), scores.std()))\n",
    "    print(\"\\n---------------------\\nValidation Score\\n----------------------\\n\")\n",
    "    y_pred = model.predict(X_test)\n",
    "    print(\"Accuracy Score :\", accuracy_score(y_pred, y_test))\n",
    "    print(\"F1-Score       :\", f1_score(y_pred, y_test, average='macro'))\n",
    "    print(classification_report(y_pred, y_test))\n",
    "    print(confusion_matrix(y_pred, y_test))"
   ]
  },
  {
   "cell_type": "markdown",
   "id": "e7f66f18-56a5-4a46-b8cb-9d7e128758e8",
   "metadata": {
    "jp-MarkdownHeadingCollapsed": true
   },
   "source": [
    "## Read Data"
   ]
  },
  {
   "cell_type": "code",
   "execution_count": 3,
   "id": "b637073a-0b67-4f72-aa0d-16d56b01fb4f",
   "metadata": {},
   "outputs": [
    {
     "name": "stdout",
     "output_type": "stream",
     "text": [
      "       date hemispherical   longitude  latitude   region      ndre       lci   \n",
      "0  19/01/22    IMG_3761_2  104.541217 -2.925328  1-bpm24  0.179929  0.263949  \\\n",
      "1  19/01/22    IMG_3754_2  104.541035 -2.925307  1-bpm24  0.186941  0.282940   \n",
      "2  19/01/22    IMG_3746_2  104.541010 -2.925442  1-bpm24  0.182272  0.266318   \n",
      "3  19/01/22    IMG_3737_2  104.541267 -2.925553  1-bpm24  0.188025  0.278577   \n",
      "4  19/01/22    IMG_3731_2  104.541405 -2.925567  1-bpm24  0.178248  0.266711   \n",
      "\n",
      "   severity_level  \n",
      "0               2  \n",
      "1               3  \n",
      "2               3  \n",
      "3               2  \n",
      "4               2  \n",
      "\n",
      "Shape of dataframe : (132, 8)\n"
     ]
    }
   ],
   "source": [
    "# Read original data\n",
    "df_ori1234 = pd.read_csv(\"results/ground_vi_data.csv\")\n",
    "df_ori123 = df_ori1234[df_ori1234['severity_level'] < 4]\n",
    "print(df_ori123.head())\n",
    "print(\"\\nShape of dataframe :\", df_ori123.shape)"
   ]
  },
  {
   "cell_type": "code",
   "execution_count": 4,
   "id": "2170e201-036c-4dfe-89bc-2add77cfc709",
   "metadata": {},
   "outputs": [
    {
     "name": "stdout",
     "output_type": "stream",
     "text": [
      "       date hemispherical   longitude  latitude   region  period      ndre   \n",
      "0  19/01/22    IMG_3761_2  104.541217 -2.925328  1-bpm24       1  0.179929  \\\n",
      "1  19/01/22    IMG_3737_2  104.541267 -2.925553  1-bpm24       1  0.188025   \n",
      "2  19/01/22    IMG_3731_2  104.541405 -2.925567  1-bpm24       1  0.178248   \n",
      "3  19/01/22    IMG_3723_2  104.541402 -2.925407  1-bpm24       1  0.184802   \n",
      "4  19/01/22    IMG_3718_2  104.541495 -2.925234  1-bpm24       1  0.186362   \n",
      "\n",
      "        lci  severity_level  \n",
      "0  0.263949               2  \n",
      "1  0.278577               2  \n",
      "2  0.266711               2  \n",
      "3  0.272173               2  \n",
      "4  0.276429               2  \n",
      "\n",
      "Shape of dataframe : (74, 9)\n"
     ]
    }
   ],
   "source": [
    "# Read remove overlapping data\n",
    "df_remove1234 = pd.read_csv(\"results/remove_overlapping_data.csv\")\n",
    "df_remove123 = df_remove1234[df_remove1234['severity_level'] < 4]\n",
    "print(df_remove123.head())\n",
    "print(\"\\nShape of dataframe :\", df_remove123.shape)"
   ]
  },
  {
   "cell_type": "code",
   "execution_count": 5,
   "id": "831a6c2c-a980-4be1-8680-5cde4619eb0d",
   "metadata": {},
   "outputs": [
    {
     "name": "stdout",
     "output_type": "stream",
     "text": [
      "       date hemispherical   longitude  latitude   region  period      ndre   \n",
      "0  19/01/22    IMG_3761_2  104.541217 -2.925328  1-bpm24       1  0.179929  \\\n",
      "1  19/01/22    IMG_3754_2  104.541035 -2.925307  1-bpm24       1  0.186941   \n",
      "2  19/01/22    IMG_3746_2  104.541010 -2.925442  1-bpm24       1  0.182272   \n",
      "3  19/01/22    IMG_3737_2  104.541267 -2.925553  1-bpm24       1  0.188025   \n",
      "4  19/01/22    IMG_3731_2  104.541405 -2.925567  1-bpm24       1  0.178248   \n",
      "\n",
      "        lci  severity_level  \n",
      "0  0.263949               2  \n",
      "1  0.282940               2  \n",
      "2  0.266318               2  \n",
      "3  0.278577               2  \n",
      "4  0.266711               2  \n",
      "\n",
      "Shape of dataframe : (138, 9)\n"
     ]
    }
   ],
   "source": [
    "# Read replace overlapping data\n",
    "df_replace1234 = pd.read_csv(\"results/replace_overlapping_data.csv\")\n",
    "df_replace123 = df_replace1234[df_replace1234['severity_level'] < 4]\n",
    "print(df_replace123.head())\n",
    "print(\"\\nShape of dataframe :\", df_replace123.shape)"
   ]
  },
  {
   "cell_type": "markdown",
   "id": "ea9c3521-f82d-4707-ac74-668c9869a969",
   "metadata": {},
   "source": [
    "## Modelling : Original Data (0)"
   ]
  },
  {
   "cell_type": "code",
   "execution_count": 6,
   "id": "f2b3f9c5-329d-4205-ad06-2c3fab59ac89",
   "metadata": {},
   "outputs": [],
   "source": [
    "# Split dataframe into X and y\n",
    "y0 = np.array(df_ori123['severity_level'])\n",
    "X0 = np.array(df_ori123[['ndre', 'lci']])"
   ]
  },
  {
   "cell_type": "code",
   "execution_count": 7,
   "id": "6e3315ca-669c-49f7-aeb5-50541d5cdf8a",
   "metadata": {},
   "outputs": [
    {
     "data": {
      "text/plain": [
       "((105, 2), (27, 2), (105,), (27,))"
      ]
     },
     "execution_count": 7,
     "metadata": {},
     "output_type": "execute_result"
    }
   ],
   "source": [
    "# Split data into train and test\n",
    "X_train0, X_test0, y_train0, y_test0 = train_test_split(X0, y0, test_size=0.2, stratify=y0, random_state=0)\n",
    "X_train0.shape, X_test0.shape, y_train0.shape, y_test0.shape"
   ]
  },
  {
   "cell_type": "markdown",
   "id": "7390336e-d993-4cbf-8daa-6eee3f3b0fce",
   "metadata": {
    "jp-MarkdownHeadingCollapsed": true
   },
   "source": [
    "### Random Forest"
   ]
  },
  {
   "cell_type": "code",
   "execution_count": 8,
   "id": "7fdf8b8f-ff5d-412e-9b9e-8300fa82a7ba",
   "metadata": {},
   "outputs": [
    {
     "data": {
      "text/html": [
       "<style>#sk-container-id-1 {color: black;background-color: white;}#sk-container-id-1 pre{padding: 0;}#sk-container-id-1 div.sk-toggleable {background-color: white;}#sk-container-id-1 label.sk-toggleable__label {cursor: pointer;display: block;width: 100%;margin-bottom: 0;padding: 0.3em;box-sizing: border-box;text-align: center;}#sk-container-id-1 label.sk-toggleable__label-arrow:before {content: \"▸\";float: left;margin-right: 0.25em;color: #696969;}#sk-container-id-1 label.sk-toggleable__label-arrow:hover:before {color: black;}#sk-container-id-1 div.sk-estimator:hover label.sk-toggleable__label-arrow:before {color: black;}#sk-container-id-1 div.sk-toggleable__content {max-height: 0;max-width: 0;overflow: hidden;text-align: left;background-color: #f0f8ff;}#sk-container-id-1 div.sk-toggleable__content pre {margin: 0.2em;color: black;border-radius: 0.25em;background-color: #f0f8ff;}#sk-container-id-1 input.sk-toggleable__control:checked~div.sk-toggleable__content {max-height: 200px;max-width: 100%;overflow: auto;}#sk-container-id-1 input.sk-toggleable__control:checked~label.sk-toggleable__label-arrow:before {content: \"▾\";}#sk-container-id-1 div.sk-estimator input.sk-toggleable__control:checked~label.sk-toggleable__label {background-color: #d4ebff;}#sk-container-id-1 div.sk-label input.sk-toggleable__control:checked~label.sk-toggleable__label {background-color: #d4ebff;}#sk-container-id-1 input.sk-hidden--visually {border: 0;clip: rect(1px 1px 1px 1px);clip: rect(1px, 1px, 1px, 1px);height: 1px;margin: -1px;overflow: hidden;padding: 0;position: absolute;width: 1px;}#sk-container-id-1 div.sk-estimator {font-family: monospace;background-color: #f0f8ff;border: 1px dotted black;border-radius: 0.25em;box-sizing: border-box;margin-bottom: 0.5em;}#sk-container-id-1 div.sk-estimator:hover {background-color: #d4ebff;}#sk-container-id-1 div.sk-parallel-item::after {content: \"\";width: 100%;border-bottom: 1px solid gray;flex-grow: 1;}#sk-container-id-1 div.sk-label:hover label.sk-toggleable__label {background-color: #d4ebff;}#sk-container-id-1 div.sk-serial::before {content: \"\";position: absolute;border-left: 1px solid gray;box-sizing: border-box;top: 0;bottom: 0;left: 50%;z-index: 0;}#sk-container-id-1 div.sk-serial {display: flex;flex-direction: column;align-items: center;background-color: white;padding-right: 0.2em;padding-left: 0.2em;position: relative;}#sk-container-id-1 div.sk-item {position: relative;z-index: 1;}#sk-container-id-1 div.sk-parallel {display: flex;align-items: stretch;justify-content: center;background-color: white;position: relative;}#sk-container-id-1 div.sk-item::before, #sk-container-id-1 div.sk-parallel-item::before {content: \"\";position: absolute;border-left: 1px solid gray;box-sizing: border-box;top: 0;bottom: 0;left: 50%;z-index: -1;}#sk-container-id-1 div.sk-parallel-item {display: flex;flex-direction: column;z-index: 1;position: relative;background-color: white;}#sk-container-id-1 div.sk-parallel-item:first-child::after {align-self: flex-end;width: 50%;}#sk-container-id-1 div.sk-parallel-item:last-child::after {align-self: flex-start;width: 50%;}#sk-container-id-1 div.sk-parallel-item:only-child::after {width: 0;}#sk-container-id-1 div.sk-dashed-wrapped {border: 1px dashed gray;margin: 0 0.4em 0.5em 0.4em;box-sizing: border-box;padding-bottom: 0.4em;background-color: white;}#sk-container-id-1 div.sk-label label {font-family: monospace;font-weight: bold;display: inline-block;line-height: 1.2em;}#sk-container-id-1 div.sk-label-container {text-align: center;}#sk-container-id-1 div.sk-container {/* jupyter's `normalize.less` sets `[hidden] { display: none; }` but bootstrap.min.css set `[hidden] { display: none !important; }` so we also need the `!important` here to be able to override the default hidden behavior on the sphinx rendered scikit-learn.org. See: https://github.com/scikit-learn/scikit-learn/issues/21755 */display: inline-block !important;position: relative;}#sk-container-id-1 div.sk-text-repr-fallback {display: none;}</style><div id=\"sk-container-id-1\" class=\"sk-top-container\"><div class=\"sk-text-repr-fallback\"><pre>RandomForestClassifier(random_state=0)</pre><b>In a Jupyter environment, please rerun this cell to show the HTML representation or trust the notebook. <br />On GitHub, the HTML representation is unable to render, please try loading this page with nbviewer.org.</b></div><div class=\"sk-container\" hidden><div class=\"sk-item\"><div class=\"sk-estimator sk-toggleable\"><input class=\"sk-toggleable__control sk-hidden--visually\" id=\"sk-estimator-id-1\" type=\"checkbox\" checked><label for=\"sk-estimator-id-1\" class=\"sk-toggleable__label sk-toggleable__label-arrow\">RandomForestClassifier</label><div class=\"sk-toggleable__content\"><pre>RandomForestClassifier(random_state=0)</pre></div></div></div></div></div>"
      ],
      "text/plain": [
       "RandomForestClassifier(random_state=0)"
      ]
     },
     "execution_count": 8,
     "metadata": {},
     "output_type": "execute_result"
    }
   ],
   "source": [
    "# Train a model\n",
    "rf0 = RandomForestClassifier(random_state=0)\n",
    "rf0.fit(X_train0, y_train0)"
   ]
  },
  {
   "cell_type": "code",
   "execution_count": 9,
   "id": "2c609daf-8bd1-44c1-b5f8-61449cb07140",
   "metadata": {},
   "outputs": [
    {
     "name": "stdout",
     "output_type": "stream",
     "text": [
      "====================\n",
      "RANDOM FOREST\n",
      "====================\n",
      "\n",
      "List Traning Scores : [0.40740741 0.42307692 0.26923077 0.46153846]\n",
      "Training Average : 0.3903133903133903 +- 0.07262862107807724\n",
      "\n",
      "---------------------\n",
      "Validation Score\n",
      "----------------------\n",
      "\n",
      "Accuracy Score : 0.5925925925925926\n",
      "F1-Score       : 0.5789669267930136\n",
      "              precision    recall  f1-score   support\n",
      "\n",
      "           1       0.38      0.60      0.46         5\n",
      "           2       0.60      0.75      0.67         8\n",
      "           3       0.78      0.50      0.61        14\n",
      "\n",
      "    accuracy                           0.59        27\n",
      "   macro avg       0.58      0.62      0.58        27\n",
      "weighted avg       0.65      0.59      0.60        27\n",
      "\n",
      "[[3 1 1]\n",
      " [1 6 1]\n",
      " [4 3 7]]\n"
     ]
    }
   ],
   "source": [
    "# Show ML Report\n",
    "ml_report_classification(rf0, X_train0, y_train0, X_test0, y_test0, \"RANDOM FOREST\")"
   ]
  },
  {
   "cell_type": "markdown",
   "id": "e550f40b-5668-4af5-8fef-656ae0d52bee",
   "metadata": {},
   "source": [
    "Akurasi Model yang dihasilkan masih rendah. Salah satu faktor penyebabnya karena sebagian dari dataset labelnya saling overlaping."
   ]
  },
  {
   "cell_type": "markdown",
   "id": "761aeb0d-26f1-417d-9980-c33aae63bc8d",
   "metadata": {},
   "source": [
    "## Modelling : Remove Overlapping Data (1)"
   ]
  },
  {
   "cell_type": "code",
   "execution_count": 11,
   "id": "b06f60cc-ac0c-4490-9f56-8be5cbf00ae9",
   "metadata": {},
   "outputs": [],
   "source": [
    "# Split dataframe into X and y\n",
    "y1 = np.array(df_remove123['severity_level'])\n",
    "X1 = np.array(df_remove123[['ndre', 'lci']])\n",
    "y1a = np.array(df_remove1234['severity_level'])\n",
    "X1a = np.array(df_remove1234[['ndre', 'lci']])"
   ]
  },
  {
   "cell_type": "code",
   "execution_count": 12,
   "id": "1ec2fb62-8de9-4121-ba42-65fdef093bd8",
   "metadata": {},
   "outputs": [
    {
     "data": {
      "text/plain": [
       "((59, 2), (15, 2), (59,), (15,))"
      ]
     },
     "execution_count": 12,
     "metadata": {},
     "output_type": "execute_result"
    }
   ],
   "source": [
    "# Split data into train and test --> Level 1-3\n",
    "X_train1, X_test1, y_train1, y_test1 = train_test_split(X1, y1, test_size=0.2, stratify=y1, random_state=0)\n",
    "X_train1.shape, X_test1.shape, y_train1.shape, y_test1.shape"
   ]
  },
  {
   "cell_type": "code",
   "execution_count": 13,
   "id": "602ea110-ce6d-4e8c-912e-edab49d9d418",
   "metadata": {},
   "outputs": [
    {
     "data": {
      "text/plain": [
       "((64, 2), (16, 2), (64,), (16,))"
      ]
     },
     "execution_count": 13,
     "metadata": {},
     "output_type": "execute_result"
    }
   ],
   "source": [
    "# Split data into train and test --> Level 1-4\n",
    "X_train1a, X_test1a, y_train1a, y_test1a = train_test_split(X1a, y1a, test_size=0.2, stratify=y1a, random_state=0)\n",
    "X_train1a.shape, X_test1a.shape, y_train1a.shape, y_test1a.shape"
   ]
  },
  {
   "cell_type": "markdown",
   "id": "b901dd54-3dc5-41bc-b9d0-543d9ee0cddd",
   "metadata": {
    "jp-MarkdownHeadingCollapsed": true
   },
   "source": [
    "### Random Forest (Level 1-3)"
   ]
  },
  {
   "cell_type": "code",
   "execution_count": 14,
   "id": "8082f7e7-761d-4428-8e07-36f09b6f251e",
   "metadata": {},
   "outputs": [
    {
     "data": {
      "text/html": [
       "<style>#sk-container-id-2 {color: black;background-color: white;}#sk-container-id-2 pre{padding: 0;}#sk-container-id-2 div.sk-toggleable {background-color: white;}#sk-container-id-2 label.sk-toggleable__label {cursor: pointer;display: block;width: 100%;margin-bottom: 0;padding: 0.3em;box-sizing: border-box;text-align: center;}#sk-container-id-2 label.sk-toggleable__label-arrow:before {content: \"▸\";float: left;margin-right: 0.25em;color: #696969;}#sk-container-id-2 label.sk-toggleable__label-arrow:hover:before {color: black;}#sk-container-id-2 div.sk-estimator:hover label.sk-toggleable__label-arrow:before {color: black;}#sk-container-id-2 div.sk-toggleable__content {max-height: 0;max-width: 0;overflow: hidden;text-align: left;background-color: #f0f8ff;}#sk-container-id-2 div.sk-toggleable__content pre {margin: 0.2em;color: black;border-radius: 0.25em;background-color: #f0f8ff;}#sk-container-id-2 input.sk-toggleable__control:checked~div.sk-toggleable__content {max-height: 200px;max-width: 100%;overflow: auto;}#sk-container-id-2 input.sk-toggleable__control:checked~label.sk-toggleable__label-arrow:before {content: \"▾\";}#sk-container-id-2 div.sk-estimator input.sk-toggleable__control:checked~label.sk-toggleable__label {background-color: #d4ebff;}#sk-container-id-2 div.sk-label input.sk-toggleable__control:checked~label.sk-toggleable__label {background-color: #d4ebff;}#sk-container-id-2 input.sk-hidden--visually {border: 0;clip: rect(1px 1px 1px 1px);clip: rect(1px, 1px, 1px, 1px);height: 1px;margin: -1px;overflow: hidden;padding: 0;position: absolute;width: 1px;}#sk-container-id-2 div.sk-estimator {font-family: monospace;background-color: #f0f8ff;border: 1px dotted black;border-radius: 0.25em;box-sizing: border-box;margin-bottom: 0.5em;}#sk-container-id-2 div.sk-estimator:hover {background-color: #d4ebff;}#sk-container-id-2 div.sk-parallel-item::after {content: \"\";width: 100%;border-bottom: 1px solid gray;flex-grow: 1;}#sk-container-id-2 div.sk-label:hover label.sk-toggleable__label {background-color: #d4ebff;}#sk-container-id-2 div.sk-serial::before {content: \"\";position: absolute;border-left: 1px solid gray;box-sizing: border-box;top: 0;bottom: 0;left: 50%;z-index: 0;}#sk-container-id-2 div.sk-serial {display: flex;flex-direction: column;align-items: center;background-color: white;padding-right: 0.2em;padding-left: 0.2em;position: relative;}#sk-container-id-2 div.sk-item {position: relative;z-index: 1;}#sk-container-id-2 div.sk-parallel {display: flex;align-items: stretch;justify-content: center;background-color: white;position: relative;}#sk-container-id-2 div.sk-item::before, #sk-container-id-2 div.sk-parallel-item::before {content: \"\";position: absolute;border-left: 1px solid gray;box-sizing: border-box;top: 0;bottom: 0;left: 50%;z-index: -1;}#sk-container-id-2 div.sk-parallel-item {display: flex;flex-direction: column;z-index: 1;position: relative;background-color: white;}#sk-container-id-2 div.sk-parallel-item:first-child::after {align-self: flex-end;width: 50%;}#sk-container-id-2 div.sk-parallel-item:last-child::after {align-self: flex-start;width: 50%;}#sk-container-id-2 div.sk-parallel-item:only-child::after {width: 0;}#sk-container-id-2 div.sk-dashed-wrapped {border: 1px dashed gray;margin: 0 0.4em 0.5em 0.4em;box-sizing: border-box;padding-bottom: 0.4em;background-color: white;}#sk-container-id-2 div.sk-label label {font-family: monospace;font-weight: bold;display: inline-block;line-height: 1.2em;}#sk-container-id-2 div.sk-label-container {text-align: center;}#sk-container-id-2 div.sk-container {/* jupyter's `normalize.less` sets `[hidden] { display: none; }` but bootstrap.min.css set `[hidden] { display: none !important; }` so we also need the `!important` here to be able to override the default hidden behavior on the sphinx rendered scikit-learn.org. See: https://github.com/scikit-learn/scikit-learn/issues/21755 */display: inline-block !important;position: relative;}#sk-container-id-2 div.sk-text-repr-fallback {display: none;}</style><div id=\"sk-container-id-2\" class=\"sk-top-container\"><div class=\"sk-text-repr-fallback\"><pre>RandomForestClassifier(random_state=0)</pre><b>In a Jupyter environment, please rerun this cell to show the HTML representation or trust the notebook. <br />On GitHub, the HTML representation is unable to render, please try loading this page with nbviewer.org.</b></div><div class=\"sk-container\" hidden><div class=\"sk-item\"><div class=\"sk-estimator sk-toggleable\"><input class=\"sk-toggleable__control sk-hidden--visually\" id=\"sk-estimator-id-2\" type=\"checkbox\" checked><label for=\"sk-estimator-id-2\" class=\"sk-toggleable__label sk-toggleable__label-arrow\">RandomForestClassifier</label><div class=\"sk-toggleable__content\"><pre>RandomForestClassifier(random_state=0)</pre></div></div></div></div></div>"
      ],
      "text/plain": [
       "RandomForestClassifier(random_state=0)"
      ]
     },
     "execution_count": 14,
     "metadata": {},
     "output_type": "execute_result"
    }
   ],
   "source": [
    "# Train a model\n",
    "rf1 = RandomForestClassifier(random_state=0)\n",
    "rf1.fit(X_train1, y_train1)"
   ]
  },
  {
   "cell_type": "code",
   "execution_count": 15,
   "id": "d7e1250d-c956-480a-963a-955b50b5dece",
   "metadata": {},
   "outputs": [
    {
     "name": "stdout",
     "output_type": "stream",
     "text": [
      "====================\n",
      "RANDOM FOREST\n",
      "====================\n",
      "\n",
      "List Traning Scores : [1.         0.93333333 1.         1.        ]\n",
      "Training Average : 0.9833333333333334 +- 0.02886751345948128\n",
      "\n",
      "---------------------\n",
      "Validation Score\n",
      "----------------------\n",
      "\n",
      "Accuracy Score : 1.0\n",
      "F1-Score       : 1.0\n",
      "              precision    recall  f1-score   support\n",
      "\n",
      "           1       1.00      1.00      1.00         5\n",
      "           2       1.00      1.00      1.00         6\n",
      "           3       1.00      1.00      1.00         4\n",
      "\n",
      "    accuracy                           1.00        15\n",
      "   macro avg       1.00      1.00      1.00        15\n",
      "weighted avg       1.00      1.00      1.00        15\n",
      "\n",
      "[[5 0 0]\n",
      " [0 6 0]\n",
      " [0 0 4]]\n"
     ]
    }
   ],
   "source": [
    "# Show ML Report\n",
    "ml_report_classification(rf1, X_train1, y_train1, X_test1, y_test1, \"RANDOM FOREST\")"
   ]
  },
  {
   "cell_type": "markdown",
   "id": "f0a155dd-222e-4c65-bd3f-df79ed08e495",
   "metadata": {},
   "source": [
    "Ada peningkatan akurasi yang sangat signifikan pada skor training setelah dilakukan penghapusan overlapping data. Hal ini ditunjukkan dengan peningkatan dari skor training 0.3903 menjadi 0.9834. Selain itu, skor validasi menunjukkan hasil yang sempurna."
   ]
  },
  {
   "cell_type": "markdown",
   "id": "4ec7f166-77f0-4f72-be9e-8e59f66bb717",
   "metadata": {
    "jp-MarkdownHeadingCollapsed": true
   },
   "source": [
    "### Random Forest (All Levels)"
   ]
  },
  {
   "cell_type": "code",
   "execution_count": 16,
   "id": "82253601-5d8f-4e13-aeb3-fa671446afd3",
   "metadata": {},
   "outputs": [
    {
     "data": {
      "text/html": [
       "<style>#sk-container-id-3 {color: black;background-color: white;}#sk-container-id-3 pre{padding: 0;}#sk-container-id-3 div.sk-toggleable {background-color: white;}#sk-container-id-3 label.sk-toggleable__label {cursor: pointer;display: block;width: 100%;margin-bottom: 0;padding: 0.3em;box-sizing: border-box;text-align: center;}#sk-container-id-3 label.sk-toggleable__label-arrow:before {content: \"▸\";float: left;margin-right: 0.25em;color: #696969;}#sk-container-id-3 label.sk-toggleable__label-arrow:hover:before {color: black;}#sk-container-id-3 div.sk-estimator:hover label.sk-toggleable__label-arrow:before {color: black;}#sk-container-id-3 div.sk-toggleable__content {max-height: 0;max-width: 0;overflow: hidden;text-align: left;background-color: #f0f8ff;}#sk-container-id-3 div.sk-toggleable__content pre {margin: 0.2em;color: black;border-radius: 0.25em;background-color: #f0f8ff;}#sk-container-id-3 input.sk-toggleable__control:checked~div.sk-toggleable__content {max-height: 200px;max-width: 100%;overflow: auto;}#sk-container-id-3 input.sk-toggleable__control:checked~label.sk-toggleable__label-arrow:before {content: \"▾\";}#sk-container-id-3 div.sk-estimator input.sk-toggleable__control:checked~label.sk-toggleable__label {background-color: #d4ebff;}#sk-container-id-3 div.sk-label input.sk-toggleable__control:checked~label.sk-toggleable__label {background-color: #d4ebff;}#sk-container-id-3 input.sk-hidden--visually {border: 0;clip: rect(1px 1px 1px 1px);clip: rect(1px, 1px, 1px, 1px);height: 1px;margin: -1px;overflow: hidden;padding: 0;position: absolute;width: 1px;}#sk-container-id-3 div.sk-estimator {font-family: monospace;background-color: #f0f8ff;border: 1px dotted black;border-radius: 0.25em;box-sizing: border-box;margin-bottom: 0.5em;}#sk-container-id-3 div.sk-estimator:hover {background-color: #d4ebff;}#sk-container-id-3 div.sk-parallel-item::after {content: \"\";width: 100%;border-bottom: 1px solid gray;flex-grow: 1;}#sk-container-id-3 div.sk-label:hover label.sk-toggleable__label {background-color: #d4ebff;}#sk-container-id-3 div.sk-serial::before {content: \"\";position: absolute;border-left: 1px solid gray;box-sizing: border-box;top: 0;bottom: 0;left: 50%;z-index: 0;}#sk-container-id-3 div.sk-serial {display: flex;flex-direction: column;align-items: center;background-color: white;padding-right: 0.2em;padding-left: 0.2em;position: relative;}#sk-container-id-3 div.sk-item {position: relative;z-index: 1;}#sk-container-id-3 div.sk-parallel {display: flex;align-items: stretch;justify-content: center;background-color: white;position: relative;}#sk-container-id-3 div.sk-item::before, #sk-container-id-3 div.sk-parallel-item::before {content: \"\";position: absolute;border-left: 1px solid gray;box-sizing: border-box;top: 0;bottom: 0;left: 50%;z-index: -1;}#sk-container-id-3 div.sk-parallel-item {display: flex;flex-direction: column;z-index: 1;position: relative;background-color: white;}#sk-container-id-3 div.sk-parallel-item:first-child::after {align-self: flex-end;width: 50%;}#sk-container-id-3 div.sk-parallel-item:last-child::after {align-self: flex-start;width: 50%;}#sk-container-id-3 div.sk-parallel-item:only-child::after {width: 0;}#sk-container-id-3 div.sk-dashed-wrapped {border: 1px dashed gray;margin: 0 0.4em 0.5em 0.4em;box-sizing: border-box;padding-bottom: 0.4em;background-color: white;}#sk-container-id-3 div.sk-label label {font-family: monospace;font-weight: bold;display: inline-block;line-height: 1.2em;}#sk-container-id-3 div.sk-label-container {text-align: center;}#sk-container-id-3 div.sk-container {/* jupyter's `normalize.less` sets `[hidden] { display: none; }` but bootstrap.min.css set `[hidden] { display: none !important; }` so we also need the `!important` here to be able to override the default hidden behavior on the sphinx rendered scikit-learn.org. See: https://github.com/scikit-learn/scikit-learn/issues/21755 */display: inline-block !important;position: relative;}#sk-container-id-3 div.sk-text-repr-fallback {display: none;}</style><div id=\"sk-container-id-3\" class=\"sk-top-container\"><div class=\"sk-text-repr-fallback\"><pre>RandomForestClassifier(random_state=0)</pre><b>In a Jupyter environment, please rerun this cell to show the HTML representation or trust the notebook. <br />On GitHub, the HTML representation is unable to render, please try loading this page with nbviewer.org.</b></div><div class=\"sk-container\" hidden><div class=\"sk-item\"><div class=\"sk-estimator sk-toggleable\"><input class=\"sk-toggleable__control sk-hidden--visually\" id=\"sk-estimator-id-3\" type=\"checkbox\" checked><label for=\"sk-estimator-id-3\" class=\"sk-toggleable__label sk-toggleable__label-arrow\">RandomForestClassifier</label><div class=\"sk-toggleable__content\"><pre>RandomForestClassifier(random_state=0)</pre></div></div></div></div></div>"
      ],
      "text/plain": [
       "RandomForestClassifier(random_state=0)"
      ]
     },
     "execution_count": 16,
     "metadata": {},
     "output_type": "execute_result"
    }
   ],
   "source": [
    "# Train a model\n",
    "rf1a = RandomForestClassifier(random_state=0)\n",
    "rf1a.fit(X_train1a, y_train1a)"
   ]
  },
  {
   "cell_type": "code",
   "execution_count": 17,
   "id": "87fce373-96d2-4dac-84e8-c55bee6118c6",
   "metadata": {},
   "outputs": [
    {
     "name": "stdout",
     "output_type": "stream",
     "text": [
      "====================\n",
      "RANDOM FOREST\n",
      "====================\n",
      "\n",
      "List Traning Scores : [1.     0.9375 0.875  0.875 ]\n",
      "Training Average : 0.921875 +- 0.05182226234930312\n",
      "\n",
      "---------------------\n",
      "Validation Score\n",
      "----------------------\n",
      "\n",
      "Accuracy Score : 0.9375\n",
      "F1-Score       : 0.7222222222222222\n",
      "              precision    recall  f1-score   support\n",
      "\n",
      "           1       1.00      1.00      1.00         5\n",
      "           2       1.00      1.00      1.00         6\n",
      "           3       1.00      0.80      0.89         5\n",
      "           4       0.00      0.00      0.00         0\n",
      "\n",
      "    accuracy                           0.94        16\n",
      "   macro avg       0.75      0.70      0.72        16\n",
      "weighted avg       1.00      0.94      0.97        16\n",
      "\n",
      "[[5 0 0 0]\n",
      " [0 6 0 0]\n",
      " [0 0 4 1]\n",
      " [0 0 0 0]]\n"
     ]
    },
    {
     "name": "stderr",
     "output_type": "stream",
     "text": [
      "/home/iqballm09/Documents/skripsi/code/env/lib/python3.10/site-packages/sklearn/metrics/_classification.py:1344: UndefinedMetricWarning: Recall and F-score are ill-defined and being set to 0.0 in labels with no true samples. Use `zero_division` parameter to control this behavior.\n",
      "  _warn_prf(average, modifier, msg_start, len(result))\n",
      "/home/iqballm09/Documents/skripsi/code/env/lib/python3.10/site-packages/sklearn/metrics/_classification.py:1344: UndefinedMetricWarning: Recall and F-score are ill-defined and being set to 0.0 in labels with no true samples. Use `zero_division` parameter to control this behavior.\n",
      "  _warn_prf(average, modifier, msg_start, len(result))\n",
      "/home/iqballm09/Documents/skripsi/code/env/lib/python3.10/site-packages/sklearn/metrics/_classification.py:1344: UndefinedMetricWarning: Recall and F-score are ill-defined and being set to 0.0 in labels with no true samples. Use `zero_division` parameter to control this behavior.\n",
      "  _warn_prf(average, modifier, msg_start, len(result))\n"
     ]
    }
   ],
   "source": [
    "# Show ML Report\n",
    "ml_report_classification(rf1a, X_train1a, y_train1a, X_test1a, y_test1a, \"RANDOM FOREST\")"
   ]
  },
  {
   "cell_type": "markdown",
   "id": "219fe508-a36a-443e-a70d-48a02dac0b83",
   "metadata": {
    "jp-MarkdownHeadingCollapsed": true
   },
   "source": [
    "### Logistic Regression (Level 1-3)"
   ]
  },
  {
   "cell_type": "code",
   "execution_count": null,
   "id": "503b9fec-92e8-4cb8-96f3-087fa8ba975e",
   "metadata": {},
   "outputs": [],
   "source": [
    "# Train a model\n",
    "lr1 = LogisticRegression(random_state=0)\n",
    "lr1.fit(X_train1, y_train1)"
   ]
  },
  {
   "cell_type": "code",
   "execution_count": null,
   "id": "b3902e60-fa19-4f81-bc44-161f943599d9",
   "metadata": {},
   "outputs": [],
   "source": [
    "# Show ML Report\n",
    "ml_report_classification(lr1, X_train1, y_train1, X_test1, y_test1, \"LOGISTIC REGRESSION\")"
   ]
  },
  {
   "cell_type": "markdown",
   "id": "60b97d72-bdba-490f-b513-6758e557560d",
   "metadata": {
    "jp-MarkdownHeadingCollapsed": true
   },
   "source": [
    "Model Logistic Regression tidak dapat mengidentifikasi data-data dengan level severity selain level 2 sehingga pada confusion matrixnya tidak ada hasil prediksi utk severity dengan level 1,3, dan 4.\\\n",
    "Salah satu faktor penyebabnya karena antara variabel ndre dan lci mempunyai korelasi yang sangat kuat, sedangkan utk model logistik regresi harus ada asumsi yg dipenuhi yaitu tidak ada multikolinearitas antar variabel bebasnya."
   ]
  },
  {
   "cell_type": "markdown",
   "id": "c5acd638-eb24-4b11-9677-fac03dd13609",
   "metadata": {
    "jp-MarkdownHeadingCollapsed": true
   },
   "source": [
    "## Modelling : Replace Overlapping Data (2)"
   ]
  },
  {
   "cell_type": "code",
   "execution_count": 18,
   "id": "02b80f71-d3ed-4435-9b29-a028ec0e1739",
   "metadata": {},
   "outputs": [],
   "source": [
    "# Split dataframe into X and y\n",
    "y2 = np.array(df_replace123['severity_level'])\n",
    "X2 = np.array(df_replace123[['ndre', 'lci']])\n",
    "y2a = np.array(df_replace1234['severity_level'])\n",
    "X2a = np.array(df_replace1234[['ndre', 'lci']])"
   ]
  },
  {
   "cell_type": "code",
   "execution_count": 19,
   "id": "9c67a735-cbf7-42f6-9f58-071ce563f8cd",
   "metadata": {},
   "outputs": [
    {
     "data": {
      "text/plain": [
       "((110, 2), (28, 2), (110,), (28,))"
      ]
     },
     "execution_count": 19,
     "metadata": {},
     "output_type": "execute_result"
    }
   ],
   "source": [
    "# Split data into train and test --> Level 1-3\n",
    "X_train2, X_test2, y_train2, y_test2 = train_test_split(X2, y2, test_size=0.2, stratify=y2, random_state=0)\n",
    "X_train2.shape, X_test2.shape, y_train2.shape, y_test2.shape"
   ]
  },
  {
   "cell_type": "code",
   "execution_count": 20,
   "id": "37505fdf-6fab-4410-a4e9-dc4cd5b8786d",
   "metadata": {},
   "outputs": [
    {
     "data": {
      "text/plain": [
       "((115, 2), (29, 2), (115,), (29,))"
      ]
     },
     "execution_count": 20,
     "metadata": {},
     "output_type": "execute_result"
    }
   ],
   "source": [
    "# Split data into train and test --> All Levels\n",
    "X_train2a, X_test2a, y_train2a, y_test2a = train_test_split(X2a, y2a, test_size=0.2, stratify=y2a, random_state=0)\n",
    "X_train2a.shape, X_test2a.shape, y_train2a.shape, y_test2a.shape"
   ]
  },
  {
   "cell_type": "markdown",
   "id": "a04a084f-33a3-4bd7-8ed9-c46f144b0f40",
   "metadata": {
    "jp-MarkdownHeadingCollapsed": true
   },
   "source": [
    "### Random Forest (Level 1-3)"
   ]
  },
  {
   "cell_type": "code",
   "execution_count": 22,
   "id": "de17d7c0-1b50-4ad2-986b-ec84ec5bd39a",
   "metadata": {},
   "outputs": [
    {
     "data": {
      "text/html": [
       "<style>#sk-container-id-5 {color: black;background-color: white;}#sk-container-id-5 pre{padding: 0;}#sk-container-id-5 div.sk-toggleable {background-color: white;}#sk-container-id-5 label.sk-toggleable__label {cursor: pointer;display: block;width: 100%;margin-bottom: 0;padding: 0.3em;box-sizing: border-box;text-align: center;}#sk-container-id-5 label.sk-toggleable__label-arrow:before {content: \"▸\";float: left;margin-right: 0.25em;color: #696969;}#sk-container-id-5 label.sk-toggleable__label-arrow:hover:before {color: black;}#sk-container-id-5 div.sk-estimator:hover label.sk-toggleable__label-arrow:before {color: black;}#sk-container-id-5 div.sk-toggleable__content {max-height: 0;max-width: 0;overflow: hidden;text-align: left;background-color: #f0f8ff;}#sk-container-id-5 div.sk-toggleable__content pre {margin: 0.2em;color: black;border-radius: 0.25em;background-color: #f0f8ff;}#sk-container-id-5 input.sk-toggleable__control:checked~div.sk-toggleable__content {max-height: 200px;max-width: 100%;overflow: auto;}#sk-container-id-5 input.sk-toggleable__control:checked~label.sk-toggleable__label-arrow:before {content: \"▾\";}#sk-container-id-5 div.sk-estimator input.sk-toggleable__control:checked~label.sk-toggleable__label {background-color: #d4ebff;}#sk-container-id-5 div.sk-label input.sk-toggleable__control:checked~label.sk-toggleable__label {background-color: #d4ebff;}#sk-container-id-5 input.sk-hidden--visually {border: 0;clip: rect(1px 1px 1px 1px);clip: rect(1px, 1px, 1px, 1px);height: 1px;margin: -1px;overflow: hidden;padding: 0;position: absolute;width: 1px;}#sk-container-id-5 div.sk-estimator {font-family: monospace;background-color: #f0f8ff;border: 1px dotted black;border-radius: 0.25em;box-sizing: border-box;margin-bottom: 0.5em;}#sk-container-id-5 div.sk-estimator:hover {background-color: #d4ebff;}#sk-container-id-5 div.sk-parallel-item::after {content: \"\";width: 100%;border-bottom: 1px solid gray;flex-grow: 1;}#sk-container-id-5 div.sk-label:hover label.sk-toggleable__label {background-color: #d4ebff;}#sk-container-id-5 div.sk-serial::before {content: \"\";position: absolute;border-left: 1px solid gray;box-sizing: border-box;top: 0;bottom: 0;left: 50%;z-index: 0;}#sk-container-id-5 div.sk-serial {display: flex;flex-direction: column;align-items: center;background-color: white;padding-right: 0.2em;padding-left: 0.2em;position: relative;}#sk-container-id-5 div.sk-item {position: relative;z-index: 1;}#sk-container-id-5 div.sk-parallel {display: flex;align-items: stretch;justify-content: center;background-color: white;position: relative;}#sk-container-id-5 div.sk-item::before, #sk-container-id-5 div.sk-parallel-item::before {content: \"\";position: absolute;border-left: 1px solid gray;box-sizing: border-box;top: 0;bottom: 0;left: 50%;z-index: -1;}#sk-container-id-5 div.sk-parallel-item {display: flex;flex-direction: column;z-index: 1;position: relative;background-color: white;}#sk-container-id-5 div.sk-parallel-item:first-child::after {align-self: flex-end;width: 50%;}#sk-container-id-5 div.sk-parallel-item:last-child::after {align-self: flex-start;width: 50%;}#sk-container-id-5 div.sk-parallel-item:only-child::after {width: 0;}#sk-container-id-5 div.sk-dashed-wrapped {border: 1px dashed gray;margin: 0 0.4em 0.5em 0.4em;box-sizing: border-box;padding-bottom: 0.4em;background-color: white;}#sk-container-id-5 div.sk-label label {font-family: monospace;font-weight: bold;display: inline-block;line-height: 1.2em;}#sk-container-id-5 div.sk-label-container {text-align: center;}#sk-container-id-5 div.sk-container {/* jupyter's `normalize.less` sets `[hidden] { display: none; }` but bootstrap.min.css set `[hidden] { display: none !important; }` so we also need the `!important` here to be able to override the default hidden behavior on the sphinx rendered scikit-learn.org. See: https://github.com/scikit-learn/scikit-learn/issues/21755 */display: inline-block !important;position: relative;}#sk-container-id-5 div.sk-text-repr-fallback {display: none;}</style><div id=\"sk-container-id-5\" class=\"sk-top-container\"><div class=\"sk-text-repr-fallback\"><pre>RandomForestClassifier(random_state=0)</pre><b>In a Jupyter environment, please rerun this cell to show the HTML representation or trust the notebook. <br />On GitHub, the HTML representation is unable to render, please try loading this page with nbviewer.org.</b></div><div class=\"sk-container\" hidden><div class=\"sk-item\"><div class=\"sk-estimator sk-toggleable\"><input class=\"sk-toggleable__control sk-hidden--visually\" id=\"sk-estimator-id-5\" type=\"checkbox\" checked><label for=\"sk-estimator-id-5\" class=\"sk-toggleable__label sk-toggleable__label-arrow\">RandomForestClassifier</label><div class=\"sk-toggleable__content\"><pre>RandomForestClassifier(random_state=0)</pre></div></div></div></div></div>"
      ],
      "text/plain": [
       "RandomForestClassifier(random_state=0)"
      ]
     },
     "execution_count": 22,
     "metadata": {},
     "output_type": "execute_result"
    }
   ],
   "source": [
    "# Train a model\n",
    "rf2 = RandomForestClassifier(random_state=0)\n",
    "rf2.fit(X_train2, y_train2)"
   ]
  },
  {
   "cell_type": "code",
   "execution_count": 23,
   "id": "a4ecd6ce-7b49-4b1b-9559-4194e16d3679",
   "metadata": {},
   "outputs": [
    {
     "name": "stdout",
     "output_type": "stream",
     "text": [
      "====================\n",
      "RANDOM FOREST\n",
      "====================\n",
      "\n",
      "List Traning Scores : [1.         1.         0.96296296 1.        ]\n",
      "Training Average : 0.9907407407407407 +- 0.01603750747748963\n",
      "\n",
      "---------------------\n",
      "Validation Score\n",
      "----------------------\n",
      "\n",
      "Accuracy Score : 1.0\n",
      "F1-Score       : 1.0\n",
      "              precision    recall  f1-score   support\n",
      "\n",
      "           1       1.00      1.00      1.00         7\n",
      "           2       1.00      1.00      1.00        15\n",
      "           3       1.00      1.00      1.00         6\n",
      "\n",
      "    accuracy                           1.00        28\n",
      "   macro avg       1.00      1.00      1.00        28\n",
      "weighted avg       1.00      1.00      1.00        28\n",
      "\n",
      "[[ 7  0  0]\n",
      " [ 0 15  0]\n",
      " [ 0  0  6]]\n"
     ]
    }
   ],
   "source": [
    "# Show ML Report\n",
    "ml_report_classification(rf2, X_train2, y_train2, X_test2, y_test2, \"RANDOM FOREST\")"
   ]
  },
  {
   "cell_type": "markdown",
   "id": "f2bd2536-ed8a-4c2b-aa80-5fcac31a03b9",
   "metadata": {
    "jp-MarkdownHeadingCollapsed": true
   },
   "source": [
    "### Random Forest (All Levels)"
   ]
  },
  {
   "cell_type": "code",
   "execution_count": 24,
   "id": "d5c6598f-1c6b-44c5-95be-54dcf39b08e0",
   "metadata": {},
   "outputs": [
    {
     "data": {
      "text/html": [
       "<style>#sk-container-id-6 {color: black;background-color: white;}#sk-container-id-6 pre{padding: 0;}#sk-container-id-6 div.sk-toggleable {background-color: white;}#sk-container-id-6 label.sk-toggleable__label {cursor: pointer;display: block;width: 100%;margin-bottom: 0;padding: 0.3em;box-sizing: border-box;text-align: center;}#sk-container-id-6 label.sk-toggleable__label-arrow:before {content: \"▸\";float: left;margin-right: 0.25em;color: #696969;}#sk-container-id-6 label.sk-toggleable__label-arrow:hover:before {color: black;}#sk-container-id-6 div.sk-estimator:hover label.sk-toggleable__label-arrow:before {color: black;}#sk-container-id-6 div.sk-toggleable__content {max-height: 0;max-width: 0;overflow: hidden;text-align: left;background-color: #f0f8ff;}#sk-container-id-6 div.sk-toggleable__content pre {margin: 0.2em;color: black;border-radius: 0.25em;background-color: #f0f8ff;}#sk-container-id-6 input.sk-toggleable__control:checked~div.sk-toggleable__content {max-height: 200px;max-width: 100%;overflow: auto;}#sk-container-id-6 input.sk-toggleable__control:checked~label.sk-toggleable__label-arrow:before {content: \"▾\";}#sk-container-id-6 div.sk-estimator input.sk-toggleable__control:checked~label.sk-toggleable__label {background-color: #d4ebff;}#sk-container-id-6 div.sk-label input.sk-toggleable__control:checked~label.sk-toggleable__label {background-color: #d4ebff;}#sk-container-id-6 input.sk-hidden--visually {border: 0;clip: rect(1px 1px 1px 1px);clip: rect(1px, 1px, 1px, 1px);height: 1px;margin: -1px;overflow: hidden;padding: 0;position: absolute;width: 1px;}#sk-container-id-6 div.sk-estimator {font-family: monospace;background-color: #f0f8ff;border: 1px dotted black;border-radius: 0.25em;box-sizing: border-box;margin-bottom: 0.5em;}#sk-container-id-6 div.sk-estimator:hover {background-color: #d4ebff;}#sk-container-id-6 div.sk-parallel-item::after {content: \"\";width: 100%;border-bottom: 1px solid gray;flex-grow: 1;}#sk-container-id-6 div.sk-label:hover label.sk-toggleable__label {background-color: #d4ebff;}#sk-container-id-6 div.sk-serial::before {content: \"\";position: absolute;border-left: 1px solid gray;box-sizing: border-box;top: 0;bottom: 0;left: 50%;z-index: 0;}#sk-container-id-6 div.sk-serial {display: flex;flex-direction: column;align-items: center;background-color: white;padding-right: 0.2em;padding-left: 0.2em;position: relative;}#sk-container-id-6 div.sk-item {position: relative;z-index: 1;}#sk-container-id-6 div.sk-parallel {display: flex;align-items: stretch;justify-content: center;background-color: white;position: relative;}#sk-container-id-6 div.sk-item::before, #sk-container-id-6 div.sk-parallel-item::before {content: \"\";position: absolute;border-left: 1px solid gray;box-sizing: border-box;top: 0;bottom: 0;left: 50%;z-index: -1;}#sk-container-id-6 div.sk-parallel-item {display: flex;flex-direction: column;z-index: 1;position: relative;background-color: white;}#sk-container-id-6 div.sk-parallel-item:first-child::after {align-self: flex-end;width: 50%;}#sk-container-id-6 div.sk-parallel-item:last-child::after {align-self: flex-start;width: 50%;}#sk-container-id-6 div.sk-parallel-item:only-child::after {width: 0;}#sk-container-id-6 div.sk-dashed-wrapped {border: 1px dashed gray;margin: 0 0.4em 0.5em 0.4em;box-sizing: border-box;padding-bottom: 0.4em;background-color: white;}#sk-container-id-6 div.sk-label label {font-family: monospace;font-weight: bold;display: inline-block;line-height: 1.2em;}#sk-container-id-6 div.sk-label-container {text-align: center;}#sk-container-id-6 div.sk-container {/* jupyter's `normalize.less` sets `[hidden] { display: none; }` but bootstrap.min.css set `[hidden] { display: none !important; }` so we also need the `!important` here to be able to override the default hidden behavior on the sphinx rendered scikit-learn.org. See: https://github.com/scikit-learn/scikit-learn/issues/21755 */display: inline-block !important;position: relative;}#sk-container-id-6 div.sk-text-repr-fallback {display: none;}</style><div id=\"sk-container-id-6\" class=\"sk-top-container\"><div class=\"sk-text-repr-fallback\"><pre>RandomForestClassifier(random_state=0)</pre><b>In a Jupyter environment, please rerun this cell to show the HTML representation or trust the notebook. <br />On GitHub, the HTML representation is unable to render, please try loading this page with nbviewer.org.</b></div><div class=\"sk-container\" hidden><div class=\"sk-item\"><div class=\"sk-estimator sk-toggleable\"><input class=\"sk-toggleable__control sk-hidden--visually\" id=\"sk-estimator-id-6\" type=\"checkbox\" checked><label for=\"sk-estimator-id-6\" class=\"sk-toggleable__label sk-toggleable__label-arrow\">RandomForestClassifier</label><div class=\"sk-toggleable__content\"><pre>RandomForestClassifier(random_state=0)</pre></div></div></div></div></div>"
      ],
      "text/plain": [
       "RandomForestClassifier(random_state=0)"
      ]
     },
     "execution_count": 24,
     "metadata": {},
     "output_type": "execute_result"
    }
   ],
   "source": [
    "# Train a model\n",
    "rf2a = RandomForestClassifier(random_state=0)\n",
    "rf2a.fit(X_train2a, y_train2a)"
   ]
  },
  {
   "cell_type": "code",
   "execution_count": 25,
   "id": "686dbc13-80b3-466b-8123-e0637fe6e0dc",
   "metadata": {},
   "outputs": [
    {
     "name": "stdout",
     "output_type": "stream",
     "text": [
      "====================\n",
      "RANDOM FOREST\n",
      "====================\n",
      "\n",
      "List Traning Scores : [0.86206897 0.89655172 0.93103448 0.92857143]\n",
      "Training Average : 0.9045566502463054 +- 0.028049364467808823\n",
      "\n",
      "---------------------\n",
      "Validation Score\n",
      "----------------------\n",
      "\n",
      "Accuracy Score : 0.9655172413793104\n",
      "F1-Score       : 0.7307692307692307\n",
      "              precision    recall  f1-score   support\n",
      "\n",
      "           1       1.00      1.00      1.00         7\n",
      "           2       1.00      1.00      1.00        15\n",
      "           3       1.00      0.86      0.92         7\n",
      "           4       0.00      0.00      0.00         0\n",
      "\n",
      "    accuracy                           0.97        29\n",
      "   macro avg       0.75      0.71      0.73        29\n",
      "weighted avg       1.00      0.97      0.98        29\n",
      "\n",
      "[[ 7  0  0  0]\n",
      " [ 0 15  0  0]\n",
      " [ 0  0  6  1]\n",
      " [ 0  0  0  0]]\n"
     ]
    },
    {
     "name": "stderr",
     "output_type": "stream",
     "text": [
      "/home/iqballm09/Documents/skripsi/code/env/lib/python3.10/site-packages/sklearn/metrics/_classification.py:1344: UndefinedMetricWarning: Recall and F-score are ill-defined and being set to 0.0 in labels with no true samples. Use `zero_division` parameter to control this behavior.\n",
      "  _warn_prf(average, modifier, msg_start, len(result))\n",
      "/home/iqballm09/Documents/skripsi/code/env/lib/python3.10/site-packages/sklearn/metrics/_classification.py:1344: UndefinedMetricWarning: Recall and F-score are ill-defined and being set to 0.0 in labels with no true samples. Use `zero_division` parameter to control this behavior.\n",
      "  _warn_prf(average, modifier, msg_start, len(result))\n",
      "/home/iqballm09/Documents/skripsi/code/env/lib/python3.10/site-packages/sklearn/metrics/_classification.py:1344: UndefinedMetricWarning: Recall and F-score are ill-defined and being set to 0.0 in labels with no true samples. Use `zero_division` parameter to control this behavior.\n",
      "  _warn_prf(average, modifier, msg_start, len(result))\n"
     ]
    }
   ],
   "source": [
    "# Show ML Report\n",
    "ml_report_classification(rf2a, X_train2a, y_train2a, X_test2a, y_test2a, \"RANDOM FOREST\")"
   ]
  }
 ],
 "metadata": {
  "kernelspec": {
   "display_name": "Python 3 (ipykernel)",
   "language": "python",
   "name": "python3"
  },
  "language_info": {
   "codemirror_mode": {
    "name": "ipython",
    "version": 3
   },
   "file_extension": ".py",
   "mimetype": "text/x-python",
   "name": "python",
   "nbconvert_exporter": "python",
   "pygments_lexer": "ipython3",
   "version": "3.10.6"
  }
 },
 "nbformat": 4,
 "nbformat_minor": 5
}
