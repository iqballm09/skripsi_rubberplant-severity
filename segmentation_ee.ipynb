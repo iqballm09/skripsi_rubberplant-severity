{
 "cells": [
  {
   "cell_type": "markdown",
   "id": "0f7428ec",
   "metadata": {
    "jp-MarkdownHeadingCollapsed": true
   },
   "source": [
    "# Segmentation Using Earth Engine Cloud"
   ]
  },
  {
   "cell_type": "code",
   "execution_count": 1,
   "id": "ff6a440e",
   "metadata": {},
   "outputs": [],
   "source": [
    "# Import libraries\n",
    "import geemap\n",
    "import ee\n",
    "import pandas as pd"
   ]
  },
  {
   "cell_type": "code",
   "execution_count": 2,
   "id": "75215695",
   "metadata": {},
   "outputs": [],
   "source": [
    "# # Connect to earth engine\n",
    "# ee.Authenticate()"
   ]
  },
  {
   "cell_type": "code",
   "execution_count": 3,
   "id": "de7e1e08",
   "metadata": {},
   "outputs": [],
   "source": [
    "# Initialize ee\n",
    "ee.Initialize()"
   ]
  },
  {
   "cell_type": "code",
   "execution_count": 4,
   "id": "f9b31841",
   "metadata": {},
   "outputs": [],
   "source": [
    "# Define constants\n",
    "REGIONS = [\"1-bpm24\", \"1-gt1\", \"1-rric112\", \"2-bpm24\", \"2-gt1\", \"2-rric112\"]\n",
    "BANDS = [\"rgb\", \"red\", \"green\", \"blue\", \"nir\", \"re\"]\n",
    "TIPE = [\"gulma\", \"karet\"]\n",
    "ROOT = \"/home/iqballm09/Documents/skripsi\"\n",
    "LOCATION = \"projects/severity-karet-s1/assets/ortho\"\n",
    "DESTINATION = \"projects/severity-karet-s1/assets/segmentation\""
   ]
  },
  {
   "cell_type": "code",
   "execution_count": 5,
   "id": "27a42534",
   "metadata": {},
   "outputs": [
    {
     "data": {
      "text/html": [
       "<div>\n",
       "<style scoped>\n",
       "    .dataframe tbody tr th:only-of-type {\n",
       "        vertical-align: middle;\n",
       "    }\n",
       "\n",
       "    .dataframe tbody tr th {\n",
       "        vertical-align: top;\n",
       "    }\n",
       "\n",
       "    .dataframe thead th {\n",
       "        text-align: right;\n",
       "    }\n",
       "</style>\n",
       "<table border=\"1\" class=\"dataframe\">\n",
       "  <thead>\n",
       "    <tr style=\"text-align: right;\">\n",
       "      <th></th>\n",
       "      <th>latitude</th>\n",
       "      <th>longitude</th>\n",
       "    </tr>\n",
       "    <tr>\n",
       "      <th>location</th>\n",
       "      <th></th>\n",
       "      <th></th>\n",
       "    </tr>\n",
       "  </thead>\n",
       "  <tbody>\n",
       "    <tr>\n",
       "      <th>rric112</th>\n",
       "      <td>-2.953957</td>\n",
       "      <td>104.509275</td>\n",
       "    </tr>\n",
       "    <tr>\n",
       "      <th>gt1</th>\n",
       "      <td>-2.950331</td>\n",
       "      <td>104.519218</td>\n",
       "    </tr>\n",
       "    <tr>\n",
       "      <th>bpm24</th>\n",
       "      <td>-2.924831</td>\n",
       "      <td>104.541644</td>\n",
       "    </tr>\n",
       "  </tbody>\n",
       "</table>\n",
       "</div>"
      ],
      "text/plain": [
       "          latitude   longitude\n",
       "location                      \n",
       "rric112  -2.953957  104.509275\n",
       "gt1      -2.950331  104.519218\n",
       "bpm24    -2.924831  104.541644"
      ]
     },
     "execution_count": 5,
     "metadata": {},
     "output_type": "execute_result"
    }
   ],
   "source": [
    "# Define location coordinate\n",
    "loc_geo = pd.read_csv(ROOT + \"/data/coordinates/locations.csv\")\n",
    "loc_geo.set_index(\"location\", inplace=True)\n",
    "loc_geo.head()"
   ]
  },
  {
   "cell_type": "markdown",
   "id": "46e05fc3",
   "metadata": {
    "heading_collapsed": true,
    "jp-MarkdownHeadingCollapsed": true
   },
   "source": [
    "## Delete Segmentation Data"
   ]
  },
  {
   "cell_type": "code",
   "execution_count": 6,
   "id": "90225a4c",
   "metadata": {
    "hidden": true
   },
   "outputs": [],
   "source": [
    "# for region in REGIONS:\n",
    "#     for tipe in TIPE:\n",
    "#         for band in BANDS:\n",
    "#             time = region.split(\"-\")[0]\n",
    "#             ee.data.deleteAsset('projects/severity-karet-s1/assets/segmentation/{}/{}/{}-{}'.format(region, tipe, time, band))"
   ]
  },
  {
   "cell_type": "markdown",
   "id": "09cd04cc",
   "metadata": {
    "jp-MarkdownHeadingCollapsed": true
   },
   "source": [
    "## Create ROI"
   ]
  },
  {
   "cell_type": "code",
   "execution_count": 7,
   "id": "75bc4252",
   "metadata": {},
   "outputs": [],
   "source": [
    "# Function for create roi\n",
    "def create_roi(fileName):\n",
    "    coord = pd.read_csv(ROOT + \"/data/coordinates/{}.csv\".format(fileName))\n",
    "    coord = coord[[\"Lon\", \"Lat\"]]\n",
    "    coord_mat = coord.values.tolist()\n",
    "    roi_img = ee.Geometry.Polygon(coord_mat)\n",
    "    return roi_img"
   ]
  },
  {
   "cell_type": "code",
   "execution_count": 8,
   "id": "9b9a1fe9",
   "metadata": {},
   "outputs": [],
   "source": [
    "# Extract roi\n",
    "roi_1bpm24 = create_roi('1-bpm24')\n",
    "roi_1gt1 = create_roi('1-gt1')\n",
    "roi_1rric112 = create_roi('1-rric112')\n",
    "roi_2bpm24 = create_roi('2-bpm24')\n",
    "roi_2gt1 = create_roi('2-gt1')\n",
    "roi_2rric112 = create_roi('2-rric112')"
   ]
  },
  {
   "cell_type": "code",
   "execution_count": 9,
   "id": "a1f1edf7",
   "metadata": {},
   "outputs": [
    {
     "data": {
      "text/plain": [
       "ee.geometry.Geometry"
      ]
     },
     "execution_count": 9,
     "metadata": {},
     "output_type": "execute_result"
    }
   ],
   "source": [
    "type(roi_2rric112)"
   ]
  },
  {
   "cell_type": "markdown",
   "id": "74ad7532",
   "metadata": {
    "jp-MarkdownHeadingCollapsed": true
   },
   "source": [
    "## Clusters Analysis\n",
    "\n",
    "Tujuan : Menganalisis segmen/cluster yang merupakan objek gulma atau perkebunan karet."
   ]
  },
  {
   "cell_type": "code",
   "execution_count": 10,
   "id": "a9c7d229",
   "metadata": {},
   "outputs": [],
   "source": [
    "# Function for image clipping \n",
    "def clipping(roi, dirname, band):\n",
    "    time = dirname.split(\"-\")[0]\n",
    "    path_ee = LOCATION + \"/{}/{}-{}\".format(dirname, time, band)\n",
    "    output = ee.Image(path_ee).clip(roi)\n",
    "    return output"
   ]
  },
  {
   "cell_type": "code",
   "execution_count": 11,
   "id": "112d5989",
   "metadata": {},
   "outputs": [],
   "source": [
    "# Funcation for image segmentation\n",
    "def segmentation(img, roi, dirname, num_clusters=5):\n",
    "    train_data = img.sample(**{\"region\":roi, \"scale\": 10, \"numPixels\": 1000})\n",
    "    # Clustering process\n",
    "    kmeans = ee.Clusterer.wekaKMeans(**{'nClusters': num_clusters, 'init':1}).train(train_data)\n",
    "    cluster_result = img.cluster(kmeans)\n",
    "    # Create segmentation result\n",
    "    list_segments = []\n",
    "    for i in range(num_clusters):\n",
    "        cluster = cluster_result.select('cluster').eq(i)\n",
    "        segment = img.updateMask(cluster)\n",
    "        list_segments.append(segment)\n",
    "    return cluster_result, list_segments"
   ]
  },
  {
   "cell_type": "code",
   "execution_count": 12,
   "id": "8c9e82d1-74a3-4492-96c7-c8a16b58ddbf",
   "metadata": {
    "jp-MarkdownHeadingCollapsed": true
   },
   "outputs": [],
   "source": [
    "def show_geomap(img_segments, region):\n",
    "    # Create map\n",
    "    loc = region.split(\"-\")[1]\n",
    "    Map = geemap.Map(center=loc_geo.loc[loc].tolist(), zoom=200)\n",
    "    for i in range(len(img_segments)):\n",
    "        Map.addLayer(img_segments[i], {}, \"segment {}\".format(i))\n",
    "    return Map"
   ]
  },
  {
   "cell_type": "markdown",
   "id": "5b23c5d5-95e9-4a05-8f81-edab9f722497",
   "metadata": {
    "jp-MarkdownHeadingCollapsed": true
   },
   "source": [
    "### 1-BPM24"
   ]
  },
  {
   "cell_type": "code",
   "execution_count": 13,
   "id": "bb455d4f-8487-44b2-8238-fa2186b637de",
   "metadata": {},
   "outputs": [],
   "source": [
    "# Segmentation\n",
    "clipped_1bpm24 = clipping(roi_1bpm24, \"1-bpm24\", \"rgb\")\n",
    "clusters_1bpm24, segments_1bpm24 = segmentation(clipped_1bpm24, roi_1bpm24, \"1-bpm24\")"
   ]
  },
  {
   "cell_type": "code",
   "execution_count": 14,
   "id": "6fff9ae4-cb65-4a72-81cb-ce5e110c312b",
   "metadata": {},
   "outputs": [
    {
     "data": {
      "application/vnd.jupyter.widget-view+json": {
       "model_id": "8a1c2209d67644e796407a0fc72113c8",
       "version_major": 2,
       "version_minor": 0
      },
      "text/plain": [
       "Map(center=[-2.924831, 104.541644], controls=(WidgetControl(options=['position', 'transparent_bg'], widget=HBo…"
      ]
     },
     "execution_count": 14,
     "metadata": {},
     "output_type": "execute_result"
    }
   ],
   "source": [
    "# Show map\n",
    "map_1bpm24 = show_geomap(segments_1bpm24, \"1-bpm24\")\n",
    "map_1bpm24"
   ]
  },
  {
   "cell_type": "markdown",
   "id": "eb25f5d3-62a3-45f3-a651-7cd7c9ece68f",
   "metadata": {},
   "source": [
    "Gulma --> 3\\\n",
    "Karet --> 0, 1, 2, 4"
   ]
  },
  {
   "cell_type": "markdown",
   "id": "7058b71d-7936-4b26-bc8c-8d7cc3947b98",
   "metadata": {
    "jp-MarkdownHeadingCollapsed": true
   },
   "source": [
    "### 1-GT1"
   ]
  },
  {
   "cell_type": "code",
   "execution_count": 15,
   "id": "437c4879-829b-4bfc-9e8a-ba01ab571000",
   "metadata": {},
   "outputs": [],
   "source": [
    "# Segmentation\n",
    "clipped_1gt1 = clipping(roi_1gt1, \"1-gt1\", \"rgb\")\n",
    "clusters_1gt1, segments_1gt1 = segmentation(clipped_1gt1, roi_1gt1, \"1-gt1\")"
   ]
  },
  {
   "cell_type": "code",
   "execution_count": 16,
   "id": "5ca9c853-884c-4c98-aa2e-6f23d0b8e59f",
   "metadata": {},
   "outputs": [
    {
     "data": {
      "application/vnd.jupyter.widget-view+json": {
       "model_id": "e839361b3ae6495bad0b661016d316f3",
       "version_major": 2,
       "version_minor": 0
      },
      "text/plain": [
       "Map(center=[-2.950331, 104.519218], controls=(WidgetControl(options=['position', 'transparent_bg'], widget=HBo…"
      ]
     },
     "execution_count": 16,
     "metadata": {},
     "output_type": "execute_result"
    }
   ],
   "source": [
    "# Show map\n",
    "map_1gt1 = show_geomap(segments_1gt1, \"1-gt1\")\n",
    "map_1gt1"
   ]
  },
  {
   "cell_type": "markdown",
   "id": "cf7a59fb-1cf0-4e06-ae5c-d236d3fa1ab4",
   "metadata": {},
   "source": [
    "Gulma --> 1\\\n",
    "Karet --> 0, 2, 3, 4"
   ]
  },
  {
   "cell_type": "markdown",
   "id": "6506ca58-429b-4a27-8f49-5c9f400758d6",
   "metadata": {
    "jp-MarkdownHeadingCollapsed": true
   },
   "source": [
    "### 1-RRIC112"
   ]
  },
  {
   "cell_type": "code",
   "execution_count": 17,
   "id": "cbecb9b1-badb-4d3a-b738-0ff201af9d80",
   "metadata": {},
   "outputs": [],
   "source": [
    "# Segmentation\n",
    "clipped_1rric112 = clipping(roi_1rric112, \"1-rric112\", \"rgb\")\n",
    "clusters_1rric112, segments_1rric112 = segmentation(clipped_1rric112, roi_1rric112, \"1-rric112\")"
   ]
  },
  {
   "cell_type": "code",
   "execution_count": 18,
   "id": "94ff2c24-5c52-4f6d-b3f5-20e9ad88208c",
   "metadata": {},
   "outputs": [
    {
     "data": {
      "application/vnd.jupyter.widget-view+json": {
       "model_id": "825ce861b00c4a6bb98dcd2a6fa3394f",
       "version_major": 2,
       "version_minor": 0
      },
      "text/plain": [
       "Map(center=[-2.953957, 104.509275], controls=(WidgetControl(options=['position', 'transparent_bg'], widget=HBo…"
      ]
     },
     "execution_count": 18,
     "metadata": {},
     "output_type": "execute_result"
    }
   ],
   "source": [
    "map_1rric112 = show_geomap(segments_1rric112, \"1-rric112\")\n",
    "map_1rric112"
   ]
  },
  {
   "cell_type": "markdown",
   "id": "0de45b5d-9c3d-4565-80bf-e06dd2d287bc",
   "metadata": {},
   "source": [
    "Gulma --> 1\\\n",
    "Karet --> 0, 2, 3, 4"
   ]
  },
  {
   "cell_type": "markdown",
   "id": "b0bbdfca-610a-4663-8e7f-a3f09fe1b1e7",
   "metadata": {
    "jp-MarkdownHeadingCollapsed": true
   },
   "source": [
    "### 2-BPM24"
   ]
  },
  {
   "cell_type": "code",
   "execution_count": 19,
   "id": "bba22fd2-4a07-4c6b-97f1-e8e29630a041",
   "metadata": {},
   "outputs": [],
   "source": [
    "# Segmentation\n",
    "clipped_2bpm24 = clipping(roi_2bpm24, \"2-bpm24\", \"rgb\")\n",
    "clusters_2bpm24, segments_2bpm24 = segmentation(clipped_2bpm24, roi_2bpm24, \"2-bpm24\")"
   ]
  },
  {
   "cell_type": "code",
   "execution_count": 20,
   "id": "94594d78-e94d-4cc8-b848-d3a4ef8454b8",
   "metadata": {},
   "outputs": [
    {
     "data": {
      "application/vnd.jupyter.widget-view+json": {
       "model_id": "4eb957838b6b4aab9e00b540b8def50d",
       "version_major": 2,
       "version_minor": 0
      },
      "text/plain": [
       "Map(center=[-2.924831, 104.541644], controls=(WidgetControl(options=['position', 'transparent_bg'], widget=HBo…"
      ]
     },
     "execution_count": 20,
     "metadata": {},
     "output_type": "execute_result"
    }
   ],
   "source": [
    "map_2bpm24 = show_geomap(segments_2bpm24, \"2-bpm24\")\n",
    "map_2bpm24"
   ]
  },
  {
   "cell_type": "markdown",
   "id": "739851f8-c1c9-40a6-b39b-aade0a374862",
   "metadata": {},
   "source": [
    "Gulma --> 0\\\n",
    "Karet --> 1, 2, 3, 4"
   ]
  },
  {
   "cell_type": "markdown",
   "id": "f9c4a6a5-6552-4667-8cf3-1310f79cbacb",
   "metadata": {
    "jp-MarkdownHeadingCollapsed": true
   },
   "source": [
    "### 2-GT1"
   ]
  },
  {
   "cell_type": "code",
   "execution_count": 21,
   "id": "318f8ef4-4b69-47ba-ae89-28c185aa9913",
   "metadata": {},
   "outputs": [],
   "source": [
    "# Segmentation\n",
    "clipped_2gt1 = clipping(roi_2gt1, \"2-gt1\", \"rgb\")\n",
    "clusters_2gt1, segments_2gt1 = segmentation(clipped_2gt1, roi_2gt1, \"2-gt1\")"
   ]
  },
  {
   "cell_type": "code",
   "execution_count": 22,
   "id": "53641bd2-6ba2-48f9-a8cf-a540d4b02119",
   "metadata": {
    "scrolled": true
   },
   "outputs": [
    {
     "data": {
      "application/vnd.jupyter.widget-view+json": {
       "model_id": "bb300efe4c3e4fddb907179193c96fde",
       "version_major": 2,
       "version_minor": 0
      },
      "text/plain": [
       "Map(center=[-2.950331, 104.519218], controls=(WidgetControl(options=['position', 'transparent_bg'], widget=HBo…"
      ]
     },
     "execution_count": 22,
     "metadata": {},
     "output_type": "execute_result"
    }
   ],
   "source": [
    "map_2gt1 = show_geomap(segments_2gt1, \"2-gt1\")\n",
    "map_2gt1"
   ]
  },
  {
   "cell_type": "markdown",
   "id": "f6b7a71a-00b4-4d91-8ae6-fdd6553462dc",
   "metadata": {},
   "source": [
    "Gulma --> 1\\\n",
    "Karet --> 0, 2, 3, 4"
   ]
  },
  {
   "cell_type": "markdown",
   "id": "e1516d42-e7cd-443b-9513-42745e1c1e11",
   "metadata": {
    "jp-MarkdownHeadingCollapsed": true
   },
   "source": [
    "### 2-RRIC112"
   ]
  },
  {
   "cell_type": "code",
   "execution_count": 23,
   "id": "6fc669ef-2b51-4e0b-a806-f8d728ae7983",
   "metadata": {},
   "outputs": [],
   "source": [
    "# Segmentation\n",
    "clipped_2rric112 = clipping(roi_2rric112, \"2-rric112\", \"rgb\")\n",
    "clusters_2rric112, segments_2rric112 = segmentation(clipped_2rric112, roi_2rric112, \"2-rric112\")"
   ]
  },
  {
   "cell_type": "code",
   "execution_count": 24,
   "id": "a79ed524-a2d4-4d48-9af6-b8aa33d20435",
   "metadata": {},
   "outputs": [
    {
     "data": {
      "application/vnd.jupyter.widget-view+json": {
       "model_id": "a6403dbd976e44f0986edcd9e4daf928",
       "version_major": 2,
       "version_minor": 0
      },
      "text/plain": [
       "Map(center=[-2.953957, 104.509275], controls=(WidgetControl(options=['position', 'transparent_bg'], widget=HBo…"
      ]
     },
     "execution_count": 24,
     "metadata": {},
     "output_type": "execute_result"
    }
   ],
   "source": [
    "map_2rric112 = show_geomap(segments_2rric112, \"2-rric112\")\n",
    "map_2rric112"
   ]
  },
  {
   "cell_type": "markdown",
   "id": "84af6b85-c493-43ee-a1de-2312f6e91e9b",
   "metadata": {},
   "source": [
    "Ada objek2 yang tidak tersegmentasi dengan baik sehingga hasil clusteringnya kurang bagus."
   ]
  },
  {
   "cell_type": "markdown",
   "id": "7125d16a-3e3b-4368-abe3-e543a8ef53dd",
   "metadata": {},
   "source": [
    "Gulma --> 1\\\n",
    "Karet --> 0, 2, 3, 4"
   ]
  },
  {
   "cell_type": "markdown",
   "id": "6d9d6eb7-fa45-46ef-92cb-111e2769069e",
   "metadata": {},
   "source": [
    "## Segmentation"
   ]
  },
  {
   "cell_type": "markdown",
   "id": "2f3b92c9-1a9f-40f2-a264-a5509c0d8717",
   "metadata": {
    "jp-MarkdownHeadingCollapsed": true
   },
   "source": [
    "### Segmentation Process --> Exclude 2-RRIC112"
   ]
  },
  {
   "cell_type": "code",
   "execution_count": 25,
   "id": "77ac0ecb-d7e7-493e-ae59-ddef983fbaa8",
   "metadata": {},
   "outputs": [],
   "source": [
    "# Function for segmentation all bands\n",
    "def segmentation_process(img_clusters, roi, region_name, from_karet, from_gulma):\n",
    "    to_karet = [1, 1, 1, 1]\n",
    "    to_gulma = [1]\n",
    "\n",
    "    mask_karet = img_clusters.remap(from_karet, to_karet, 0, 'cluster')\n",
    "    mask_gulma = img_clusters.remap(from_gulma, to_gulma, 0, 'cluster')\n",
    "\n",
    "    dict_karet = {}\n",
    "    dict_gulma = {}\n",
    "\n",
    "    for band in BANDS:\n",
    "        img_clipped = clipping(roi, region_name, band)\n",
    "        karet = img_clipped.updateMask(mask_karet)\n",
    "        gulma = img_clipped.updateMask(mask_gulma)\n",
    "        dict_karet[band] = karet\n",
    "        dict_gulma[band] = gulma\n",
    "    \n",
    "    return dict_karet, dict_gulma"
   ]
  },
  {
   "cell_type": "code",
   "execution_count": 26,
   "id": "396b248e-b014-49b1-a378-5982ce6d546b",
   "metadata": {},
   "outputs": [],
   "source": [
    "# Segmentation\n",
    "karet_1bpm24, gulma_1bpm24 = segmentation_process(clusters_1bpm24, roi_1bpm24, \"1-bpm24\", [0, 1, 2, 4], [3])\n",
    "karet_1gt1, gulma_1gt1 = segmentation_process(clusters_1gt1, roi_1gt1, \"1-gt1\", [0, 2, 3, 4], [1])\n",
    "karet_1rric112, gulma_1rric112 = segmentation_process(clusters_1rric112, roi_1rric112, \"1-rric112\", [0, 2, 3, 4], [1])\n",
    "karet_2bpm24, gulma_2bpm24 = segmentation_process(clusters_2bpm24, roi_2bpm24, \"2-bpm24\", [1, 2, 3, 4], [0])\n",
    "karet_2gt1, gulma_2gt1 = segmentation_process(clusters_2gt1, roi_2gt1, \"2-gt1\", [0, 2, 3, 4], [1])"
   ]
  },
  {
   "cell_type": "markdown",
   "id": "f4f27fd4-068e-40dd-b95d-954a5599c4d8",
   "metadata": {
    "jp-MarkdownHeadingCollapsed": true
   },
   "source": [
    "### Segmentation Process --> 2-RRIC112"
   ]
  },
  {
   "cell_type": "code",
   "execution_count": 27,
   "id": "b3f0e1b2-89df-486b-b862-b7a9787b3d83",
   "metadata": {},
   "outputs": [],
   "source": [
    "# Function for segmentation specific band\n",
    "def segmentation_process1(img_clusters, roi, region_name, band, from_karet, from_gulma):\n",
    "    to_karet = [1, 1, 1, 1]\n",
    "    to_gulma = [1]\n",
    "\n",
    "    mask_karet = img_clusters.remap(from_karet, to_karet, 0, 'cluster')\n",
    "    mask_gulma = img_clusters.remap(from_gulma, to_gulma, 0, 'cluster')\n",
    "\n",
    "    dict_karet = {}\n",
    "    dict_gulma = {}\n",
    "\n",
    "    img_clipped = clipping(roi, region_name, band)\n",
    "    karet = img_clipped.updateMask(mask_karet)\n",
    "    gulma = img_clipped.updateMask(mask_gulma)\n",
    "    dict_karet[band] = karet\n",
    "    dict_gulma[band] = gulma\n",
    "    \n",
    "    return dict_karet, dict_gulma"
   ]
  },
  {
   "cell_type": "code",
   "execution_count": 28,
   "id": "59e38ac3-a2bb-499e-beb5-923481790715",
   "metadata": {},
   "outputs": [],
   "source": [
    "# Segmentation\n",
    "karet_2rric112, gulma_2rric112 = segmentation_process1(clusters_2rric112, roi_2rric112, \"2-rric112\", \"rgb\", [0, 2, 3, 4], [1])"
   ]
  },
  {
   "cell_type": "markdown",
   "id": "2ed0d6c1-c887-4e02-8ccf-47458fc3da11",
   "metadata": {
    "jp-MarkdownHeadingCollapsed": true
   },
   "source": [
    "### Show Results"
   ]
  },
  {
   "cell_type": "code",
   "execution_count": 29,
   "id": "3a7d9dde-cd4a-4113-bfd9-6d8319d3c99f",
   "metadata": {},
   "outputs": [],
   "source": [
    "# Function to show segmentation result on map\n",
    "def show_map_results(region, imgs_karet, imgs_gulma):\n",
    "    loc = region.split(\"-\")[1]\n",
    "    Map = geemap.Map(center=loc_geo.loc[loc].tolist(), zoom=200)\n",
    "    Map.addLayer(imgs_karet[\"rgb\"], {}, \"segment karet\")\n",
    "    Map.addLayer(imgs_gulma[\"rgb\"], {}, \"segment gulma\")\n",
    "    return Map"
   ]
  },
  {
   "cell_type": "code",
   "execution_count": 30,
   "id": "0beabd90-d814-4941-a5c4-edf6f522c394",
   "metadata": {},
   "outputs": [],
   "source": [
    "res_1bpm24 = show_map_results(\"1-bpm24\", karet_1bpm24, gulma_1bpm24)\n",
    "res_1gt1 = show_map_results(\"1-gt1\", karet_1gt1, gulma_1gt1)\n",
    "res_1rric112 = show_map_results(\"1-rric112\", karet_1rric112, gulma_1rric112)\n",
    "res_2bpm24 = show_map_results(\"2-bpm24\", karet_2bpm24, gulma_2bpm24)\n",
    "res_2gt1 = show_map_results(\"2-gt1\", karet_2gt1, gulma_2gt1)\n",
    "res_2rric112 = show_map_results(\"2-rric112\", karet_2rric112, gulma_2rric112)"
   ]
  },
  {
   "cell_type": "code",
   "execution_count": 41,
   "id": "79f9bb0f-5a14-425b-93bd-3ce40c577570",
   "metadata": {},
   "outputs": [
    {
     "data": {
      "application/vnd.jupyter.widget-view+json": {
       "model_id": "8f6118becc4b4ae9a2cfc12a54c4fe55",
       "version_major": 2,
       "version_minor": 0
      },
      "text/plain": [
       "Map(bottom=2182741651.0, center=[-2.953957, 104.509275], controls=(WidgetControl(options=['position', 'transpa…"
      ]
     },
     "execution_count": 41,
     "metadata": {},
     "output_type": "execute_result"
    }
   ],
   "source": [
    "res_2rric112"
   ]
  },
  {
   "cell_type": "markdown",
   "id": "8164bd5a-fa1f-4c4f-acea-2d8fc0aa3072",
   "metadata": {
    "jp-MarkdownHeadingCollapsed": true
   },
   "source": [
    "## Export Results\n",
    "\n",
    "Upload hasil segmentasi ke Google Drive."
   ]
  },
  {
   "cell_type": "code",
   "execution_count": null,
   "id": "31275a74-422e-4ec8-b521-3d9c6590db1f",
   "metadata": {},
   "outputs": [],
   "source": []
  },
  {
   "cell_type": "code",
   "execution_count": null,
   "id": "7e92d556-3517-4c46-9ead-be3b2878682e",
   "metadata": {},
   "outputs": [],
   "source": []
  },
  {
   "cell_type": "code",
   "execution_count": 32,
   "id": "c78aa368-cafb-4409-8600-610440ac798c",
   "metadata": {},
   "outputs": [],
   "source": [
    "# Function for export images to drive all bands\n",
    "def export_to_drive(imgs, roi, region, tipe):\n",
    "    print(\"%s %s images being export to drive\" % (region, tipe))\n",
    "    print(\"------------------------------------------\")\n",
    "    time = region.split(\"-\")[0]\n",
    "    for band in BANDS:\n",
    "        # Create task\n",
    "        task = ee.batch.Export.image.toDrive(\n",
    "            image=imgs[band],\n",
    "            region=roi,\n",
    "            description=band + \"_\" + region,\n",
    "            folder=region + \"/\" + tipe,\n",
    "            fileNamePrefix=time + \"-\" + band,\n",
    "            fileFormat='GeoTIFF',\n",
    "            scale=0.04,\n",
    "            crs='EPSG:4326'\n",
    "        )\n",
    "        task.start()\n",
    "    \n",
    "        # Wait for respond\n",
    "        task_status = task.status()\n",
    "        while task_status['state'] in ['READY', 'RUNNING']:\n",
    "            task_status = task.status()\n",
    "\n",
    "        # Check if successful\n",
    "        if task_status['state'] == 'COMPLETED':\n",
    "            print(\"{} image export to drive success!\".format(band))\n",
    "        else:\n",
    "            print('{} image export to drive failed!'.format(band))"
   ]
  },
  {
   "cell_type": "code",
   "execution_count": 33,
   "id": "d519b4e5-cf9d-4c1b-8f52-460a14b55387",
   "metadata": {},
   "outputs": [],
   "source": [
    "# Function for export images to drive specific bands\n",
    "def export_to_drive1(img, roi, region, tipe, band):\n",
    "    print(\"%s %s images being export to drive\" % (region, tipe))\n",
    "    print(\"------------------------------------------\")\n",
    "    time = region.split(\"-\")[0]\n",
    "    # Create task\n",
    "    task = ee.batch.Export.image.toDrive(\n",
    "        image=img[band],\n",
    "        region=roi,\n",
    "        description=band + \"_\" + region,\n",
    "        folder=region + \"/\" + tipe,\n",
    "        fileNamePrefix=time + \"-\" + band,\n",
    "        fileFormat='GeoTIFF',\n",
    "        scale=0.04,\n",
    "        crs='EPSG:4326'\n",
    "    )\n",
    "    task.start()\n",
    "\n",
    "    # Wait for respond\n",
    "    task_status = task.status()\n",
    "    while task_status['state'] in ['READY', 'RUNNING']:\n",
    "        task_status = task.status()\n",
    "\n",
    "    # Check if successful\n",
    "    if task_status['state'] == 'COMPLETED':\n",
    "        print(\"{} image export to drive success!\".format(band))\n",
    "    else:\n",
    "        print('{} image export to drive failed!'.format(band))"
   ]
  },
  {
   "cell_type": "markdown",
   "id": "7a841235-a8bf-4251-870f-fa4382323ea9",
   "metadata": {
    "jp-MarkdownHeadingCollapsed": true
   },
   "source": [
    "### 1-bpm24"
   ]
  },
  {
   "cell_type": "code",
   "execution_count": 34,
   "id": "71cce75e-105d-400b-b5ba-e4118bbfbc04",
   "metadata": {},
   "outputs": [],
   "source": [
    "# # Karet\n",
    "# export_to_drive(karet_1bpm24, roi_1bpm24, \"1-bpm24\", \"karet\")"
   ]
  },
  {
   "cell_type": "code",
   "execution_count": 35,
   "id": "77323ec5-d3fb-44ac-aae9-9f293bf69ed3",
   "metadata": {},
   "outputs": [],
   "source": [
    "# # Gulma\n",
    "# export_to_drive(gulma_1bpm24, roi_1bpm24, \"1-bpm24\", \"gulma\")"
   ]
  },
  {
   "cell_type": "code",
   "execution_count": 50,
   "id": "72a4a4b3-2917-4f43-9429-49852e28e74a",
   "metadata": {},
   "outputs": [
    {
     "name": "stdout",
     "output_type": "stream",
     "text": [
      "1-bpm24 karet images being export to drive\n",
      "------------------------------------------\n",
      "re image export to drive success!\n"
     ]
    }
   ],
   "source": [
    "export_to_drive1(karet_1bpm24, roi_1bpm24, \"1-bpm24\", \"karet\", \"re\")"
   ]
  },
  {
   "cell_type": "markdown",
   "id": "f459d032-e232-4c6f-881e-c8242a846d89",
   "metadata": {
    "jp-MarkdownHeadingCollapsed": true
   },
   "source": [
    "### 1-gt1"
   ]
  },
  {
   "cell_type": "code",
   "execution_count": 36,
   "id": "b3bd3cff-6767-4cf2-ae45-5a9f6d0faef7",
   "metadata": {},
   "outputs": [],
   "source": [
    "# # Karet\n",
    "# export_to_drive(karet_1gt1, roi_1gt1, \"1-gt1\", \"karet\")"
   ]
  },
  {
   "cell_type": "code",
   "execution_count": 37,
   "id": "be97a562-d450-498e-84c5-d63faf7b0e18",
   "metadata": {},
   "outputs": [],
   "source": [
    "# # Gulma\n",
    "# export_to_drive(gulma_1gt1, roi_1gt1, \"1-gt1\", \"gulma\")"
   ]
  },
  {
   "cell_type": "markdown",
   "id": "b7bd6552-3dd6-4002-8ce4-7a7eb4851275",
   "metadata": {
    "jp-MarkdownHeadingCollapsed": true
   },
   "source": [
    "### 1-rric112"
   ]
  },
  {
   "cell_type": "code",
   "execution_count": 42,
   "id": "eb90a9fc-d21f-4c83-8036-39f4396dd004",
   "metadata": {},
   "outputs": [],
   "source": [
    "# # Karet\n",
    "# export_to_drive(karet_1rric112, roi_1rric112, \"1-rric112\", \"karet\")"
   ]
  },
  {
   "cell_type": "code",
   "execution_count": 43,
   "id": "61e50562-fba2-4fcb-ae19-365e1faca94b",
   "metadata": {},
   "outputs": [],
   "source": [
    "# # Gulma\n",
    "# export_to_drive(gulma_1rric112, roi_1rric112, \"1-rric112\", \"gulma\")"
   ]
  },
  {
   "cell_type": "markdown",
   "id": "19a67258-8c36-451d-8952-94b93d8fcf60",
   "metadata": {
    "jp-MarkdownHeadingCollapsed": true
   },
   "source": [
    "### 2-bpm24"
   ]
  },
  {
   "cell_type": "code",
   "execution_count": 44,
   "id": "f780c3e1-a783-46f6-a1cf-5160c930f417",
   "metadata": {},
   "outputs": [],
   "source": [
    "# # Karet\n",
    "# export_to_drive(karet_2bpm24, roi_2bpm24, \"2-bpm24\", \"karet\")"
   ]
  },
  {
   "cell_type": "code",
   "execution_count": 45,
   "id": "51aec31c-5150-4bbe-93a7-6eeca9538b7e",
   "metadata": {},
   "outputs": [
    {
     "name": "stdout",
     "output_type": "stream",
     "text": [
      "2-bpm24 gulma images being export to drive\n",
      "------------------------------------------\n",
      "rgb image export to drive success!\n",
      "red image export to drive success!\n",
      "green image export to drive success!\n",
      "blue image export to drive success!\n",
      "nir image export to drive success!\n",
      "re image export to drive success!\n"
     ]
    }
   ],
   "source": [
    "# Gulma\n",
    "export_to_drive(gulma_2bpm24, roi_2bpm24, \"2-bpm24\", \"gulma\")"
   ]
  },
  {
   "cell_type": "markdown",
   "id": "dc4c46e5-715b-4805-a99b-78ece3240a08",
   "metadata": {
    "jp-MarkdownHeadingCollapsed": true
   },
   "source": [
    "### 2-gt1"
   ]
  },
  {
   "cell_type": "code",
   "execution_count": 46,
   "id": "d1e7fc19-ad29-4e1c-8755-5866c90785f0",
   "metadata": {},
   "outputs": [
    {
     "name": "stdout",
     "output_type": "stream",
     "text": [
      "2-gt1 karet images being export to drive\n",
      "------------------------------------------\n",
      "rgb image export to drive success!\n",
      "red image export to drive success!\n",
      "green image export to drive success!\n",
      "blue image export to drive success!\n",
      "nir image export to drive success!\n",
      "re image export to drive success!\n"
     ]
    }
   ],
   "source": [
    "# Karet\n",
    "export_to_drive(karet_2gt1, roi_2gt1, \"2-gt1\", \"karet\")"
   ]
  },
  {
   "cell_type": "code",
   "execution_count": 47,
   "id": "a5b7431d-0d6a-4d27-8406-1d39dfb45406",
   "metadata": {},
   "outputs": [
    {
     "name": "stdout",
     "output_type": "stream",
     "text": [
      "2-gt1 gulma images being export to drive\n",
      "------------------------------------------\n",
      "rgb image export to drive success!\n",
      "red image export to drive success!\n",
      "green image export to drive success!\n",
      "blue image export to drive success!\n",
      "nir image export to drive success!\n",
      "re image export to drive success!\n"
     ]
    }
   ],
   "source": [
    "# Gulma\n",
    "export_to_drive(gulma_2gt1, roi_2gt1, \"2-gt1\", \"gulma\")"
   ]
  },
  {
   "cell_type": "markdown",
   "id": "7f9f7eee-2ce6-4fff-82e1-19d9f018db71",
   "metadata": {
    "jp-MarkdownHeadingCollapsed": true
   },
   "source": [
    "### 2-rric112"
   ]
  },
  {
   "cell_type": "code",
   "execution_count": 48,
   "id": "0d81bb6f-0f54-45d3-acdf-4b44d3c41c68",
   "metadata": {},
   "outputs": [
    {
     "name": "stdout",
     "output_type": "stream",
     "text": [
      "2-rric112 karet images being export to drive\n",
      "------------------------------------------\n",
      "rgb image export to drive success!\n"
     ]
    }
   ],
   "source": [
    "# Karet\n",
    "export_to_drive1(karet_2rric112, roi_2rric112, \"2-rric112\", \"karet\", \"rgb\")"
   ]
  },
  {
   "cell_type": "code",
   "execution_count": 49,
   "id": "896a5571-6fce-439c-a809-1157ae5c93b3",
   "metadata": {},
   "outputs": [
    {
     "name": "stdout",
     "output_type": "stream",
     "text": [
      "2-rric112 gulma images being export to drive\n",
      "------------------------------------------\n",
      "rgb image export to drive success!\n"
     ]
    }
   ],
   "source": [
    "# Gulma\n",
    "export_to_drive1(gulma_2rric112, roi_2rric112, \"2-rric112\", \"gulma\", \"rgb\")"
   ]
  }
 ],
 "metadata": {
  "kernelspec": {
   "display_name": "Python 3 (ipykernel)",
   "language": "python",
   "name": "python3"
  },
  "language_info": {
   "codemirror_mode": {
    "name": "ipython",
    "version": 3
   },
   "file_extension": ".py",
   "mimetype": "text/x-python",
   "name": "python",
   "nbconvert_exporter": "python",
   "pygments_lexer": "ipython3",
   "version": "3.10.6"
  }
 },
 "nbformat": 4,
 "nbformat_minor": 5
}
